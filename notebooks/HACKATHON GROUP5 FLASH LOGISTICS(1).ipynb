{
 "cells": [
  {
   "cell_type": "code",
   "execution_count": 1,
   "id": "570e61c3",
   "metadata": {},
   "outputs": [],
   "source": [
    "import pandas as pd\n",
    "import numpy as np"
   ]
  },
  {
   "cell_type": "code",
   "execution_count": 2,
   "id": "6897186d",
   "metadata": {},
   "outputs": [
    {
     "data": {
      "text/html": [
       "<div>\n",
       "<style scoped>\n",
       "    .dataframe tbody tr th:only-of-type {\n",
       "        vertical-align: middle;\n",
       "    }\n",
       "\n",
       "    .dataframe tbody tr th {\n",
       "        vertical-align: top;\n",
       "    }\n",
       "\n",
       "    .dataframe thead th {\n",
       "        text-align: right;\n",
       "    }\n",
       "</style>\n",
       "<table border=\"1\" class=\"dataframe\">\n",
       "  <thead>\n",
       "    <tr style=\"text-align: right;\">\n",
       "      <th></th>\n",
       "      <th>pickup_year</th>\n",
       "      <th>pickup_month</th>\n",
       "      <th>pickup_day</th>\n",
       "      <th>pickup_dayofweek</th>\n",
       "      <th>pickup_time</th>\n",
       "      <th>pickup_location_code</th>\n",
       "      <th>dropoff_location_code</th>\n",
       "      <th>trip_distance</th>\n",
       "      <th>trip_length</th>\n",
       "      <th>fare_amount</th>\n",
       "      <th>fees_amount</th>\n",
       "      <th>tolls_amount</th>\n",
       "      <th>tip_amount</th>\n",
       "      <th>total_amount</th>\n",
       "      <th>payment_type</th>\n",
       "    </tr>\n",
       "  </thead>\n",
       "  <tbody>\n",
       "    <tr>\n",
       "      <th>0</th>\n",
       "      <td>2016</td>\n",
       "      <td>1</td>\n",
       "      <td>1</td>\n",
       "      <td>5</td>\n",
       "      <td>0</td>\n",
       "      <td>2</td>\n",
       "      <td>4</td>\n",
       "      <td>21.00</td>\n",
       "      <td>2037</td>\n",
       "      <td>52.0</td>\n",
       "      <td>0.8</td>\n",
       "      <td>5.54</td>\n",
       "      <td>11.65</td>\n",
       "      <td>69.99</td>\n",
       "      <td>1</td>\n",
       "    </tr>\n",
       "    <tr>\n",
       "      <th>1</th>\n",
       "      <td>2016</td>\n",
       "      <td>1</td>\n",
       "      <td>1</td>\n",
       "      <td>5</td>\n",
       "      <td>0</td>\n",
       "      <td>2</td>\n",
       "      <td>1</td>\n",
       "      <td>16.29</td>\n",
       "      <td>1520</td>\n",
       "      <td>45.0</td>\n",
       "      <td>1.3</td>\n",
       "      <td>0.00</td>\n",
       "      <td>8.00</td>\n",
       "      <td>54.30</td>\n",
       "      <td>1</td>\n",
       "    </tr>\n",
       "    <tr>\n",
       "      <th>2</th>\n",
       "      <td>2016</td>\n",
       "      <td>1</td>\n",
       "      <td>1</td>\n",
       "      <td>5</td>\n",
       "      <td>0</td>\n",
       "      <td>2</td>\n",
       "      <td>6</td>\n",
       "      <td>12.70</td>\n",
       "      <td>1462</td>\n",
       "      <td>36.5</td>\n",
       "      <td>1.3</td>\n",
       "      <td>0.00</td>\n",
       "      <td>0.00</td>\n",
       "      <td>37.80</td>\n",
       "      <td>2</td>\n",
       "    </tr>\n",
       "    <tr>\n",
       "      <th>3</th>\n",
       "      <td>2016</td>\n",
       "      <td>1</td>\n",
       "      <td>1</td>\n",
       "      <td>5</td>\n",
       "      <td>0</td>\n",
       "      <td>2</td>\n",
       "      <td>6</td>\n",
       "      <td>8.70</td>\n",
       "      <td>1210</td>\n",
       "      <td>26.0</td>\n",
       "      <td>1.3</td>\n",
       "      <td>0.00</td>\n",
       "      <td>5.46</td>\n",
       "      <td>32.76</td>\n",
       "      <td>1</td>\n",
       "    </tr>\n",
       "    <tr>\n",
       "      <th>4</th>\n",
       "      <td>2016</td>\n",
       "      <td>1</td>\n",
       "      <td>1</td>\n",
       "      <td>5</td>\n",
       "      <td>0</td>\n",
       "      <td>2</td>\n",
       "      <td>6</td>\n",
       "      <td>5.56</td>\n",
       "      <td>759</td>\n",
       "      <td>17.5</td>\n",
       "      <td>1.3</td>\n",
       "      <td>0.00</td>\n",
       "      <td>0.00</td>\n",
       "      <td>18.80</td>\n",
       "      <td>2</td>\n",
       "    </tr>\n",
       "    <tr>\n",
       "      <th>...</th>\n",
       "      <td>...</td>\n",
       "      <td>...</td>\n",
       "      <td>...</td>\n",
       "      <td>...</td>\n",
       "      <td>...</td>\n",
       "      <td>...</td>\n",
       "      <td>...</td>\n",
       "      <td>...</td>\n",
       "      <td>...</td>\n",
       "      <td>...</td>\n",
       "      <td>...</td>\n",
       "      <td>...</td>\n",
       "      <td>...</td>\n",
       "      <td>...</td>\n",
       "      <td>...</td>\n",
       "    </tr>\n",
       "    <tr>\n",
       "      <th>2008</th>\n",
       "      <td>2016</td>\n",
       "      <td>6</td>\n",
       "      <td>30</td>\n",
       "      <td>4</td>\n",
       "      <td>5</td>\n",
       "      <td>3</td>\n",
       "      <td>4</td>\n",
       "      <td>9.50</td>\n",
       "      <td>1989</td>\n",
       "      <td>31.0</td>\n",
       "      <td>1.3</td>\n",
       "      <td>5.54</td>\n",
       "      <td>3.00</td>\n",
       "      <td>40.84</td>\n",
       "      <td>1</td>\n",
       "    </tr>\n",
       "    <tr>\n",
       "      <th>2009</th>\n",
       "      <td>2016</td>\n",
       "      <td>6</td>\n",
       "      <td>30</td>\n",
       "      <td>4</td>\n",
       "      <td>5</td>\n",
       "      <td>2</td>\n",
       "      <td>4</td>\n",
       "      <td>19.80</td>\n",
       "      <td>2368</td>\n",
       "      <td>52.0</td>\n",
       "      <td>0.8</td>\n",
       "      <td>5.54</td>\n",
       "      <td>0.00</td>\n",
       "      <td>58.34</td>\n",
       "      <td>1</td>\n",
       "    </tr>\n",
       "    <tr>\n",
       "      <th>2010</th>\n",
       "      <td>2016</td>\n",
       "      <td>6</td>\n",
       "      <td>30</td>\n",
       "      <td>4</td>\n",
       "      <td>5</td>\n",
       "      <td>2</td>\n",
       "      <td>4</td>\n",
       "      <td>17.48</td>\n",
       "      <td>2822</td>\n",
       "      <td>52.0</td>\n",
       "      <td>0.8</td>\n",
       "      <td>5.54</td>\n",
       "      <td>5.00</td>\n",
       "      <td>63.34</td>\n",
       "      <td>1</td>\n",
       "    </tr>\n",
       "    <tr>\n",
       "      <th>2011</th>\n",
       "      <td>2016</td>\n",
       "      <td>6</td>\n",
       "      <td>30</td>\n",
       "      <td>4</td>\n",
       "      <td>5</td>\n",
       "      <td>2</td>\n",
       "      <td>6</td>\n",
       "      <td>12.76</td>\n",
       "      <td>1083</td>\n",
       "      <td>34.5</td>\n",
       "      <td>1.3</td>\n",
       "      <td>0.00</td>\n",
       "      <td>8.95</td>\n",
       "      <td>44.75</td>\n",
       "      <td>1</td>\n",
       "    </tr>\n",
       "    <tr>\n",
       "      <th>2012</th>\n",
       "      <td>2016</td>\n",
       "      <td>6</td>\n",
       "      <td>30</td>\n",
       "      <td>4</td>\n",
       "      <td>5</td>\n",
       "      <td>2</td>\n",
       "      <td>0</td>\n",
       "      <td>17.54</td>\n",
       "      <td>1711</td>\n",
       "      <td>48.0</td>\n",
       "      <td>1.3</td>\n",
       "      <td>5.54</td>\n",
       "      <td>0.00</td>\n",
       "      <td>54.84</td>\n",
       "      <td>2</td>\n",
       "    </tr>\n",
       "  </tbody>\n",
       "</table>\n",
       "<p>2013 rows × 15 columns</p>\n",
       "</div>"
      ],
      "text/plain": [
       "      pickup_year  pickup_month  pickup_day  pickup_dayofweek  pickup_time  \\\n",
       "0            2016             1           1                 5            0   \n",
       "1            2016             1           1                 5            0   \n",
       "2            2016             1           1                 5            0   \n",
       "3            2016             1           1                 5            0   \n",
       "4            2016             1           1                 5            0   \n",
       "...           ...           ...         ...               ...          ...   \n",
       "2008         2016             6          30                 4            5   \n",
       "2009         2016             6          30                 4            5   \n",
       "2010         2016             6          30                 4            5   \n",
       "2011         2016             6          30                 4            5   \n",
       "2012         2016             6          30                 4            5   \n",
       "\n",
       "      pickup_location_code  dropoff_location_code  trip_distance  trip_length  \\\n",
       "0                        2                      4          21.00         2037   \n",
       "1                        2                      1          16.29         1520   \n",
       "2                        2                      6          12.70         1462   \n",
       "3                        2                      6           8.70         1210   \n",
       "4                        2                      6           5.56          759   \n",
       "...                    ...                    ...            ...          ...   \n",
       "2008                     3                      4           9.50         1989   \n",
       "2009                     2                      4          19.80         2368   \n",
       "2010                     2                      4          17.48         2822   \n",
       "2011                     2                      6          12.76         1083   \n",
       "2012                     2                      0          17.54         1711   \n",
       "\n",
       "      fare_amount  fees_amount  tolls_amount  tip_amount  total_amount  \\\n",
       "0            52.0          0.8          5.54       11.65         69.99   \n",
       "1            45.0          1.3          0.00        8.00         54.30   \n",
       "2            36.5          1.3          0.00        0.00         37.80   \n",
       "3            26.0          1.3          0.00        5.46         32.76   \n",
       "4            17.5          1.3          0.00        0.00         18.80   \n",
       "...           ...          ...           ...         ...           ...   \n",
       "2008         31.0          1.3          5.54        3.00         40.84   \n",
       "2009         52.0          0.8          5.54        0.00         58.34   \n",
       "2010         52.0          0.8          5.54        5.00         63.34   \n",
       "2011         34.5          1.3          0.00        8.95         44.75   \n",
       "2012         48.0          1.3          5.54        0.00         54.84   \n",
       "\n",
       "      payment_type  \n",
       "0                1  \n",
       "1                1  \n",
       "2                2  \n",
       "3                1  \n",
       "4                2  \n",
       "...            ...  \n",
       "2008             1  \n",
       "2009             1  \n",
       "2010             1  \n",
       "2011             1  \n",
       "2012             2  \n",
       "\n",
       "[2013 rows x 15 columns]"
      ]
     },
     "execution_count": 2,
     "metadata": {},
     "output_type": "execute_result"
    }
   ],
   "source": [
    "flash = pd.read_csv('nyc_taxis.csv')\n",
    "flash"
   ]
  },
  {
   "cell_type": "code",
   "execution_count": 3,
   "id": "1e841dad",
   "metadata": {},
   "outputs": [
    {
     "name": "stdout",
     "output_type": "stream",
     "text": [
      "<class 'pandas.core.frame.DataFrame'>\n",
      "RangeIndex: 2013 entries, 0 to 2012\n",
      "Data columns (total 15 columns):\n",
      " #   Column                 Non-Null Count  Dtype  \n",
      "---  ------                 --------------  -----  \n",
      " 0   pickup_year            2013 non-null   int64  \n",
      " 1   pickup_month           2013 non-null   int64  \n",
      " 2   pickup_day             2013 non-null   int64  \n",
      " 3   pickup_dayofweek       2013 non-null   int64  \n",
      " 4   pickup_time            2013 non-null   int64  \n",
      " 5   pickup_location_code   2013 non-null   int64  \n",
      " 6   dropoff_location_code  2013 non-null   int64  \n",
      " 7   trip_distance          2013 non-null   float64\n",
      " 8   trip_length            2013 non-null   int64  \n",
      " 9   fare_amount            2013 non-null   float64\n",
      " 10  fees_amount            2013 non-null   float64\n",
      " 11  tolls_amount           2013 non-null   float64\n",
      " 12  tip_amount             2013 non-null   float64\n",
      " 13  total_amount           2013 non-null   float64\n",
      " 14  payment_type           2013 non-null   int64  \n",
      "dtypes: float64(6), int64(9)\n",
      "memory usage: 236.0 KB\n"
     ]
    }
   ],
   "source": [
    "flash.info()"
   ]
  },
  {
   "cell_type": "code",
   "execution_count": 4,
   "id": "34d64db9",
   "metadata": {},
   "outputs": [
    {
     "data": {
      "text/html": [
       "<div>\n",
       "<style scoped>\n",
       "    .dataframe tbody tr th:only-of-type {\n",
       "        vertical-align: middle;\n",
       "    }\n",
       "\n",
       "    .dataframe tbody tr th {\n",
       "        vertical-align: top;\n",
       "    }\n",
       "\n",
       "    .dataframe thead th {\n",
       "        text-align: right;\n",
       "    }\n",
       "</style>\n",
       "<table border=\"1\" class=\"dataframe\">\n",
       "  <thead>\n",
       "    <tr style=\"text-align: right;\">\n",
       "      <th></th>\n",
       "      <th>pickup_year</th>\n",
       "      <th>pickup_month</th>\n",
       "      <th>pickup_day</th>\n",
       "      <th>pickup_dayofweek</th>\n",
       "      <th>pickup_time</th>\n",
       "      <th>pickup_location_code</th>\n",
       "      <th>dropoff_location_code</th>\n",
       "      <th>trip_distance</th>\n",
       "      <th>trip_length</th>\n",
       "      <th>fare_amount</th>\n",
       "      <th>fees_amount</th>\n",
       "      <th>tolls_amount</th>\n",
       "      <th>tip_amount</th>\n",
       "      <th>total_amount</th>\n",
       "      <th>payment_type</th>\n",
       "    </tr>\n",
       "  </thead>\n",
       "  <tbody>\n",
       "    <tr>\n",
       "      <th>count</th>\n",
       "      <td>2013.0</td>\n",
       "      <td>2013.000000</td>\n",
       "      <td>2013.000000</td>\n",
       "      <td>2013.000000</td>\n",
       "      <td>2013.000000</td>\n",
       "      <td>2013.000000</td>\n",
       "      <td>2013.000000</td>\n",
       "      <td>2013.000000</td>\n",
       "      <td>2013.000000</td>\n",
       "      <td>2013.000000</td>\n",
       "      <td>2013.000000</td>\n",
       "      <td>2013.000000</td>\n",
       "      <td>2013.000000</td>\n",
       "      <td>2013.000000</td>\n",
       "      <td>2013.000000</td>\n",
       "    </tr>\n",
       "    <tr>\n",
       "      <th>mean</th>\n",
       "      <td>2016.0</td>\n",
       "      <td>2.667660</td>\n",
       "      <td>14.795827</td>\n",
       "      <td>4.089419</td>\n",
       "      <td>3.281669</td>\n",
       "      <td>2.913562</td>\n",
       "      <td>3.309985</td>\n",
       "      <td>12.924779</td>\n",
       "      <td>2261.595132</td>\n",
       "      <td>38.648539</td>\n",
       "      <td>1.188475</td>\n",
       "      <td>3.323999</td>\n",
       "      <td>5.517079</td>\n",
       "      <td>48.678092</td>\n",
       "      <td>1.331346</td>\n",
       "    </tr>\n",
       "    <tr>\n",
       "      <th>std</th>\n",
       "      <td>0.0</td>\n",
       "      <td>1.745865</td>\n",
       "      <td>11.663248</td>\n",
       "      <td>1.800418</td>\n",
       "      <td>1.434330</td>\n",
       "      <td>0.831464</td>\n",
       "      <td>1.432818</td>\n",
       "      <td>5.174818</td>\n",
       "      <td>4167.415944</td>\n",
       "      <td>13.159885</td>\n",
       "      <td>0.852494</td>\n",
       "      <td>2.782898</td>\n",
       "      <td>4.924900</td>\n",
       "      <td>16.314332</td>\n",
       "      <td>0.489447</td>\n",
       "    </tr>\n",
       "    <tr>\n",
       "      <th>min</th>\n",
       "      <td>2016.0</td>\n",
       "      <td>1.000000</td>\n",
       "      <td>1.000000</td>\n",
       "      <td>1.000000</td>\n",
       "      <td>0.000000</td>\n",
       "      <td>0.000000</td>\n",
       "      <td>0.000000</td>\n",
       "      <td>0.000000</td>\n",
       "      <td>1.000000</td>\n",
       "      <td>0.010000</td>\n",
       "      <td>0.300000</td>\n",
       "      <td>0.000000</td>\n",
       "      <td>0.000000</td>\n",
       "      <td>0.310000</td>\n",
       "      <td>1.000000</td>\n",
       "    </tr>\n",
       "    <tr>\n",
       "      <th>25%</th>\n",
       "      <td>2016.0</td>\n",
       "      <td>1.000000</td>\n",
       "      <td>4.000000</td>\n",
       "      <td>3.000000</td>\n",
       "      <td>2.000000</td>\n",
       "      <td>2.000000</td>\n",
       "      <td>2.000000</td>\n",
       "      <td>9.300000</td>\n",
       "      <td>1335.000000</td>\n",
       "      <td>29.500000</td>\n",
       "      <td>0.800000</td>\n",
       "      <td>0.000000</td>\n",
       "      <td>0.000000</td>\n",
       "      <td>38.760000</td>\n",
       "      <td>1.000000</td>\n",
       "    </tr>\n",
       "    <tr>\n",
       "      <th>50%</th>\n",
       "      <td>2016.0</td>\n",
       "      <td>3.000000</td>\n",
       "      <td>13.000000</td>\n",
       "      <td>5.000000</td>\n",
       "      <td>4.000000</td>\n",
       "      <td>3.000000</td>\n",
       "      <td>4.000000</td>\n",
       "      <td>11.700000</td>\n",
       "      <td>1868.000000</td>\n",
       "      <td>37.500000</td>\n",
       "      <td>0.800000</td>\n",
       "      <td>5.540000</td>\n",
       "      <td>6.000000</td>\n",
       "      <td>47.890000</td>\n",
       "      <td>1.000000</td>\n",
       "    </tr>\n",
       "    <tr>\n",
       "      <th>75%</th>\n",
       "      <td>2016.0</td>\n",
       "      <td>3.000000</td>\n",
       "      <td>28.000000</td>\n",
       "      <td>5.000000</td>\n",
       "      <td>4.000000</td>\n",
       "      <td>4.000000</td>\n",
       "      <td>4.000000</td>\n",
       "      <td>17.470000</td>\n",
       "      <td>2561.000000</td>\n",
       "      <td>52.000000</td>\n",
       "      <td>1.300000</td>\n",
       "      <td>5.540000</td>\n",
       "      <td>9.340000</td>\n",
       "      <td>59.810000</td>\n",
       "      <td>2.000000</td>\n",
       "    </tr>\n",
       "    <tr>\n",
       "      <th>max</th>\n",
       "      <td>2016.0</td>\n",
       "      <td>6.000000</td>\n",
       "      <td>30.000000</td>\n",
       "      <td>7.000000</td>\n",
       "      <td>5.000000</td>\n",
       "      <td>6.000000</td>\n",
       "      <td>7.000000</td>\n",
       "      <td>37.300000</td>\n",
       "      <td>85360.000000</td>\n",
       "      <td>117.000000</td>\n",
       "      <td>5.300000</td>\n",
       "      <td>23.580000</td>\n",
       "      <td>52.800000</td>\n",
       "      <td>141.880000</td>\n",
       "      <td>4.000000</td>\n",
       "    </tr>\n",
       "  </tbody>\n",
       "</table>\n",
       "</div>"
      ],
      "text/plain": [
       "       pickup_year  pickup_month   pickup_day  pickup_dayofweek  pickup_time  \\\n",
       "count       2013.0   2013.000000  2013.000000       2013.000000  2013.000000   \n",
       "mean        2016.0      2.667660    14.795827          4.089419     3.281669   \n",
       "std            0.0      1.745865    11.663248          1.800418     1.434330   \n",
       "min         2016.0      1.000000     1.000000          1.000000     0.000000   \n",
       "25%         2016.0      1.000000     4.000000          3.000000     2.000000   \n",
       "50%         2016.0      3.000000    13.000000          5.000000     4.000000   \n",
       "75%         2016.0      3.000000    28.000000          5.000000     4.000000   \n",
       "max         2016.0      6.000000    30.000000          7.000000     5.000000   \n",
       "\n",
       "       pickup_location_code  dropoff_location_code  trip_distance  \\\n",
       "count           2013.000000            2013.000000    2013.000000   \n",
       "mean               2.913562               3.309985      12.924779   \n",
       "std                0.831464               1.432818       5.174818   \n",
       "min                0.000000               0.000000       0.000000   \n",
       "25%                2.000000               2.000000       9.300000   \n",
       "50%                3.000000               4.000000      11.700000   \n",
       "75%                4.000000               4.000000      17.470000   \n",
       "max                6.000000               7.000000      37.300000   \n",
       "\n",
       "        trip_length  fare_amount  fees_amount  tolls_amount   tip_amount  \\\n",
       "count   2013.000000  2013.000000  2013.000000   2013.000000  2013.000000   \n",
       "mean    2261.595132    38.648539     1.188475      3.323999     5.517079   \n",
       "std     4167.415944    13.159885     0.852494      2.782898     4.924900   \n",
       "min        1.000000     0.010000     0.300000      0.000000     0.000000   \n",
       "25%     1335.000000    29.500000     0.800000      0.000000     0.000000   \n",
       "50%     1868.000000    37.500000     0.800000      5.540000     6.000000   \n",
       "75%     2561.000000    52.000000     1.300000      5.540000     9.340000   \n",
       "max    85360.000000   117.000000     5.300000     23.580000    52.800000   \n",
       "\n",
       "       total_amount  payment_type  \n",
       "count   2013.000000   2013.000000  \n",
       "mean      48.678092      1.331346  \n",
       "std       16.314332      0.489447  \n",
       "min        0.310000      1.000000  \n",
       "25%       38.760000      1.000000  \n",
       "50%       47.890000      1.000000  \n",
       "75%       59.810000      2.000000  \n",
       "max      141.880000      4.000000  "
      ]
     },
     "execution_count": 4,
     "metadata": {},
     "output_type": "execute_result"
    }
   ],
   "source": [
    "flash.describe()"
   ]
  },
  {
   "cell_type": "code",
   "execution_count": 5,
   "id": "0404c7ed",
   "metadata": {},
   "outputs": [
    {
     "data": {
      "text/plain": [
       "array([ 1,  2,  4,  5, 22, 13,  3, 23, 28, 30, 24], dtype=int64)"
      ]
     },
     "execution_count": 5,
     "metadata": {},
     "output_type": "execute_result"
    }
   ],
   "source": [
    "flash['pickup_day'].unique()"
   ]
  },
  {
   "cell_type": "code",
   "execution_count": 6,
   "id": "6ca11fa1",
   "metadata": {},
   "outputs": [
    {
     "data": {
      "text/plain": [
       "array([0, 1, 2, 3, 4, 5], dtype=int64)"
      ]
     },
     "execution_count": 6,
     "metadata": {},
     "output_type": "execute_result"
    }
   ],
   "source": [
    "flash['pickup_time'].unique()"
   ]
  },
  {
   "cell_type": "code",
   "execution_count": 7,
   "id": "33797550",
   "metadata": {},
   "outputs": [
    {
     "data": {
      "text/plain": [
       "array([5, 6, 1, 2, 4, 3, 7], dtype=int64)"
      ]
     },
     "execution_count": 7,
     "metadata": {},
     "output_type": "execute_result"
    }
   ],
   "source": [
    "flash['pickup_dayofweek'].unique()"
   ]
  },
  {
   "cell_type": "code",
   "execution_count": 8,
   "id": "b00b0f2c",
   "metadata": {},
   "outputs": [
    {
     "data": {
      "text/plain": [
       "array([2, 4, 6, 1, 3, 0], dtype=int64)"
      ]
     },
     "execution_count": 8,
     "metadata": {},
     "output_type": "execute_result"
    }
   ],
   "source": [
    "flash['pickup_location_code'].unique()"
   ]
  },
  {
   "cell_type": "code",
   "execution_count": 9,
   "id": "f503d0d8",
   "metadata": {},
   "outputs": [
    {
     "data": {
      "text/plain": [
       "array([4, 1, 6, 2, 5, 3, 0, 7], dtype=int64)"
      ]
     },
     "execution_count": 9,
     "metadata": {},
     "output_type": "execute_result"
    }
   ],
   "source": [
    "flash['dropoff_location_code'].unique()"
   ]
  },
  {
   "cell_type": "code",
   "execution_count": 10,
   "id": "bec9921b",
   "metadata": {},
   "outputs": [
    {
     "data": {
      "text/plain": [
       "array([1, 2, 3, 4, 6], dtype=int64)"
      ]
     },
     "execution_count": 10,
     "metadata": {},
     "output_type": "execute_result"
    }
   ],
   "source": [
    "flash['pickup_month'].unique()"
   ]
  },
  {
   "cell_type": "code",
   "execution_count": 11,
   "id": "fef288f2",
   "metadata": {},
   "outputs": [
    {
     "data": {
      "text/plain": [
       "array([2016], dtype=int64)"
      ]
     },
     "execution_count": 11,
     "metadata": {},
     "output_type": "execute_result"
    }
   ],
   "source": [
    "flash['pickup_year'].unique()"
   ]
  },
  {
   "cell_type": "code",
   "execution_count": 12,
   "id": "30eebd17",
   "metadata": {},
   "outputs": [
    {
     "data": {
      "text/plain": [
       "array([1, 2, 4, 3], dtype=int64)"
      ]
     },
     "execution_count": 12,
     "metadata": {},
     "output_type": "execute_result"
    }
   ],
   "source": [
    "flash['payment_type'].unique()"
   ]
  },
  {
   "cell_type": "code",
   "execution_count": 13,
   "id": "2c572126",
   "metadata": {},
   "outputs": [
    {
     "data": {
      "text/plain": [
       "4    605\n",
       "5    459\n",
       "3    361\n",
       "2    303\n",
       "1    202\n",
       "0     83\n",
       "Name: pickup_time, dtype: int64"
      ]
     },
     "execution_count": 13,
     "metadata": {},
     "output_type": "execute_result"
    }
   ],
   "source": [
    "flash['pickup_time'].value_counts()"
   ]
  },
  {
   "cell_type": "code",
   "execution_count": 14,
   "id": "60a3a8d7",
   "metadata": {},
   "outputs": [],
   "source": [
    "flash.rename({'pickup_location_code':'pickup_location'}, axis =1, inplace =True)"
   ]
  },
  {
   "cell_type": "code",
   "execution_count": 15,
   "id": "52aa3db2",
   "metadata": {},
   "outputs": [],
   "source": [
    "flash.rename({'dropoff_location_code':'dropoff_location'},axis =1, inplace =True)"
   ]
  },
  {
   "cell_type": "markdown",
   "id": "06ca1d10",
   "metadata": {},
   "source": [
    "\n",
    "\n",
    "## Manipulation process"
   ]
  },
  {
   "cell_type": "code",
   "execution_count": 16,
   "id": "f65a92da",
   "metadata": {
    "scrolled": true
   },
   "outputs": [
    {
     "data": {
      "text/plain": [
       "0       1\n",
       "1       1\n",
       "2       1\n",
       "3       1\n",
       "4       1\n",
       "       ..\n",
       "2008    6\n",
       "2009    6\n",
       "2010    6\n",
       "2011    6\n",
       "2012    6\n",
       "Name: pickup_month, Length: 2013, dtype: object"
      ]
     },
     "execution_count": 16,
     "metadata": {},
     "output_type": "execute_result"
    }
   ],
   "source": [
    "flash['pickup_month'] = flash['pickup_month'].map(str)\n",
    "flash['pickup_month']"
   ]
  },
  {
   "cell_type": "code",
   "execution_count": 17,
   "id": "abe5e450",
   "metadata": {},
   "outputs": [],
   "source": [
    "flash['pickup_month'].replace({'1':'Jan','2':'Feb','3':'Mar','4':'Apr','5':'May','6': 'June'},inplace=True)"
   ]
  },
  {
   "cell_type": "code",
   "execution_count": 18,
   "id": "a2282780",
   "metadata": {},
   "outputs": [
    {
     "data": {
      "text/plain": [
       "0        Jan\n",
       "1        Jan\n",
       "2        Jan\n",
       "3        Jan\n",
       "4        Jan\n",
       "        ... \n",
       "2008    June\n",
       "2009    June\n",
       "2010    June\n",
       "2011    June\n",
       "2012    June\n",
       "Name: pickup_month, Length: 2013, dtype: object"
      ]
     },
     "execution_count": 18,
     "metadata": {},
     "output_type": "execute_result"
    }
   ],
   "source": [
    "flash['pickup_month']"
   ]
  },
  {
   "cell_type": "code",
   "execution_count": 19,
   "id": "39caaceb",
   "metadata": {},
   "outputs": [
    {
     "data": {
      "text/plain": [
       "0       5\n",
       "1       5\n",
       "2       5\n",
       "3       5\n",
       "4       5\n",
       "       ..\n",
       "2008    4\n",
       "2009    4\n",
       "2010    4\n",
       "2011    4\n",
       "2012    4\n",
       "Name: pickup_dayofweek, Length: 2013, dtype: object"
      ]
     },
     "execution_count": 19,
     "metadata": {},
     "output_type": "execute_result"
    }
   ],
   "source": [
    "flash['pickup_dayofweek']= flash['pickup_dayofweek'].apply(str)\n",
    "flash['pickup_dayofweek']"
   ]
  },
  {
   "cell_type": "code",
   "execution_count": 20,
   "id": "524f1db4",
   "metadata": {},
   "outputs": [
    {
     "data": {
      "text/plain": [
       "0       Fri\n",
       "1       Fri\n",
       "2       Fri\n",
       "3       Fri\n",
       "4       Fri\n",
       "       ... \n",
       "2008    Thu\n",
       "2009    Thu\n",
       "2010    Thu\n",
       "2011    Thu\n",
       "2012    Thu\n",
       "Name: pickup_dayofweek, Length: 2013, dtype: object"
      ]
     },
     "execution_count": 20,
     "metadata": {},
     "output_type": "execute_result"
    }
   ],
   "source": [
    "flash['pickup_dayofweek']=flash['pickup_dayofweek'].replace({'1':'Mon','2':'Tues','3':'Wed','4':'Thu','5':'Fri','6': 'Sat','7':'Sun'})\n",
    "flash['pickup_dayofweek']"
   ]
  },
  {
   "cell_type": "code",
   "execution_count": 21,
   "id": "390abfe5",
   "metadata": {},
   "outputs": [
    {
     "data": {
      "text/plain": [
       "array([6, 1, 2, 3, 4, 5], dtype=int64)"
      ]
     },
     "execution_count": 21,
     "metadata": {},
     "output_type": "execute_result"
    }
   ],
   "source": [
    "\n",
    "flash['pickup_time']= flash['pickup_time'].replace({0:6})\n",
    "flash['pickup_time'].unique()"
   ]
  },
  {
   "cell_type": "code",
   "execution_count": 22,
   "id": "8dc61750",
   "metadata": {},
   "outputs": [
    {
     "data": {
      "text/plain": [
       "0       1\n",
       "1       1\n",
       "2       2\n",
       "3       1\n",
       "4       2\n",
       "       ..\n",
       "2008    1\n",
       "2009    1\n",
       "2010    1\n",
       "2011    1\n",
       "2012    2\n",
       "Name: payment_type, Length: 2013, dtype: object"
      ]
     },
     "execution_count": 22,
     "metadata": {},
     "output_type": "execute_result"
    }
   ],
   "source": [
    "flash['payment_type']= flash['payment_type'].apply(str)\n",
    "flash['payment_type']"
   ]
  },
  {
   "cell_type": "code",
   "execution_count": 23,
   "id": "f1857b20",
   "metadata": {},
   "outputs": [
    {
     "data": {
      "text/plain": [
       "0       Bank\n",
       "1       Bank\n",
       "2       Cash\n",
       "3       Bank\n",
       "4       Cash\n",
       "        ... \n",
       "2008    Bank\n",
       "2009    Bank\n",
       "2010    Bank\n",
       "2011    Bank\n",
       "2012    Cash\n",
       "Name: payment_type, Length: 2013, dtype: object"
      ]
     },
     "execution_count": 23,
     "metadata": {},
     "output_type": "execute_result"
    }
   ],
   "source": [
    "flash['payment_type'].replace({'1': 'Bank', '2':'Cash', '3': 'debit_card', '4':'crypto' }, inplace =True)\n",
    "flash['payment_type']"
   ]
  },
  {
   "cell_type": "code",
   "execution_count": 24,
   "id": "00c2f410",
   "metadata": {},
   "outputs": [
    {
     "data": {
      "text/plain": [
       "0       2\n",
       "1       2\n",
       "2       2\n",
       "3       2\n",
       "4       2\n",
       "       ..\n",
       "2008    3\n",
       "2009    2\n",
       "2010    2\n",
       "2011    2\n",
       "2012    2\n",
       "Name: pickup_location, Length: 2013, dtype: object"
      ]
     },
     "execution_count": 24,
     "metadata": {},
     "output_type": "execute_result"
    }
   ],
   "source": [
    "flash['pickup_location'] =flash['pickup_location'].apply(str)\n",
    "flash['pickup_location']"
   ]
  },
  {
   "cell_type": "code",
   "execution_count": 25,
   "id": "0c290eeb",
   "metadata": {},
   "outputs": [
    {
     "data": {
      "text/plain": [
       "0            Eti-Osa\n",
       "1            Eti-Osa\n",
       "2            Eti-Osa\n",
       "3            Eti-Osa\n",
       "4            Eti-Osa\n",
       "            ...     \n",
       "2008    Lagos-Island\n",
       "2009         Eti-Osa\n",
       "2010         Eti-Osa\n",
       "2011         Eti-Osa\n",
       "2012         Eti-Osa\n",
       "Name: pickup_location, Length: 2013, dtype: object"
      ]
     },
     "execution_count": 25,
     "metadata": {},
     "output_type": "execute_result"
    }
   ],
   "source": [
    "flash['pickup_location'].replace({'0': 'Shomolu', '1':'Oshodi', '2': 'Eti-Osa', \n",
    "                                    '3':'Lagos-Island', '4':'Ikeja','6': 'Amuwo-Odofin'}, inplace =True)\n",
    "flash['pickup_location']"
   ]
  },
  {
   "cell_type": "code",
   "execution_count": 26,
   "id": "ff0f505a",
   "metadata": {},
   "outputs": [
    {
     "data": {
      "text/plain": [
       "0       4\n",
       "1       1\n",
       "2       6\n",
       "3       6\n",
       "4       6\n",
       "       ..\n",
       "2008    4\n",
       "2009    4\n",
       "2010    4\n",
       "2011    6\n",
       "2012    0\n",
       "Name: dropoff_location, Length: 2013, dtype: object"
      ]
     },
     "execution_count": 26,
     "metadata": {},
     "output_type": "execute_result"
    }
   ],
   "source": [
    "flash['dropoff_location']= flash['dropoff_location'].apply(str)\n",
    "flash['dropoff_location']"
   ]
  },
  {
   "cell_type": "code",
   "execution_count": 27,
   "id": "f5a37aa6",
   "metadata": {},
   "outputs": [
    {
     "data": {
      "text/plain": [
       "0              Ikeja\n",
       "1             Oshodi\n",
       "2       Amuwo-Odofin\n",
       "3       Amuwo-Odofin\n",
       "4       Amuwo-Odofin\n",
       "            ...     \n",
       "2008           Ikeja\n",
       "2009           Ikeja\n",
       "2010           Ikeja\n",
       "2011    Amuwo-Odofin\n",
       "2012         Shomolu\n",
       "Name: dropoff_location, Length: 2013, dtype: object"
      ]
     },
     "execution_count": 27,
     "metadata": {},
     "output_type": "execute_result"
    }
   ],
   "source": [
    "flash['dropoff_location'].replace({'0': 'Shomolu', '1':'Oshodi', '2': 'Eti-Osa', \n",
    "                                    '3':'Lagos-Island', '4':'Ikeja', '5': 'Alimosho',\n",
    "                                        '6': 'Amuwo-Odofin', '7': 'Surulere'}, inplace =True)\n",
    "flash['dropoff_location']"
   ]
  },
  {
   "cell_type": "code",
   "execution_count": 28,
   "id": "196aedae",
   "metadata": {},
   "outputs": [
    {
     "data": {
      "text/plain": [
       "0       33\n",
       "1       25\n",
       "2       24\n",
       "3       20\n",
       "4       12\n",
       "        ..\n",
       "2008    33\n",
       "2009    39\n",
       "2010    47\n",
       "2011    18\n",
       "2012    28\n",
       "Name: trip_time, Length: 2013, dtype: int32"
      ]
     },
     "execution_count": 28,
     "metadata": {},
     "output_type": "execute_result"
    }
   ],
   "source": [
    "trip_min =flash['trip_length']/60\n",
    "flash['trip_time']= trip_min.astype(int)\n",
    "flash['trip_time']\n"
   ]
  },
  {
   "cell_type": "code",
   "execution_count": 29,
   "id": "351dad42",
   "metadata": {},
   "outputs": [
    {
     "data": {
      "text/plain": [
       "0       69\n",
       "1       54\n",
       "2       37\n",
       "3       32\n",
       "4       18\n",
       "        ..\n",
       "2008    40\n",
       "2009    58\n",
       "2010    63\n",
       "2011    44\n",
       "2012    54\n",
       "Name: total_amount, Length: 2013, dtype: int32"
      ]
     },
     "execution_count": 29,
     "metadata": {},
     "output_type": "execute_result"
    }
   ],
   "source": [
    "flash['total_amount'] = flash['total_amount'].astype(int)\n",
    "flash['total_amount']"
   ]
  },
  {
   "cell_type": "code",
   "execution_count": 30,
   "id": "3a0a63e8",
   "metadata": {},
   "outputs": [
    {
     "data": {
      "text/html": [
       "<div>\n",
       "<style scoped>\n",
       "    .dataframe tbody tr th:only-of-type {\n",
       "        vertical-align: middle;\n",
       "    }\n",
       "\n",
       "    .dataframe tbody tr th {\n",
       "        vertical-align: top;\n",
       "    }\n",
       "\n",
       "    .dataframe thead th {\n",
       "        text-align: right;\n",
       "    }\n",
       "</style>\n",
       "<table border=\"1\" class=\"dataframe\">\n",
       "  <thead>\n",
       "    <tr style=\"text-align: right;\">\n",
       "      <th></th>\n",
       "      <th>pickup_year</th>\n",
       "      <th>pickup_month</th>\n",
       "      <th>pickup_day</th>\n",
       "      <th>pickup_dayofweek</th>\n",
       "      <th>pickup_time</th>\n",
       "      <th>pickup_location</th>\n",
       "      <th>dropoff_location</th>\n",
       "      <th>trip_distance</th>\n",
       "      <th>trip_length</th>\n",
       "      <th>fare_amount</th>\n",
       "      <th>fees_amount</th>\n",
       "      <th>tolls_amount</th>\n",
       "      <th>tip_amount</th>\n",
       "      <th>total_amount</th>\n",
       "      <th>payment_type</th>\n",
       "      <th>trip_time</th>\n",
       "    </tr>\n",
       "  </thead>\n",
       "  <tbody>\n",
       "    <tr>\n",
       "      <th>0</th>\n",
       "      <td>2016</td>\n",
       "      <td>Jan</td>\n",
       "      <td>1</td>\n",
       "      <td>Fri</td>\n",
       "      <td>6</td>\n",
       "      <td>Eti-Osa</td>\n",
       "      <td>Ikeja</td>\n",
       "      <td>21.00</td>\n",
       "      <td>2037</td>\n",
       "      <td>52.0</td>\n",
       "      <td>0.8</td>\n",
       "      <td>5.54</td>\n",
       "      <td>11.65</td>\n",
       "      <td>69</td>\n",
       "      <td>Bank</td>\n",
       "      <td>33</td>\n",
       "    </tr>\n",
       "    <tr>\n",
       "      <th>1</th>\n",
       "      <td>2016</td>\n",
       "      <td>Jan</td>\n",
       "      <td>1</td>\n",
       "      <td>Fri</td>\n",
       "      <td>6</td>\n",
       "      <td>Eti-Osa</td>\n",
       "      <td>Oshodi</td>\n",
       "      <td>16.29</td>\n",
       "      <td>1520</td>\n",
       "      <td>45.0</td>\n",
       "      <td>1.3</td>\n",
       "      <td>0.00</td>\n",
       "      <td>8.00</td>\n",
       "      <td>54</td>\n",
       "      <td>Bank</td>\n",
       "      <td>25</td>\n",
       "    </tr>\n",
       "    <tr>\n",
       "      <th>2</th>\n",
       "      <td>2016</td>\n",
       "      <td>Jan</td>\n",
       "      <td>1</td>\n",
       "      <td>Fri</td>\n",
       "      <td>6</td>\n",
       "      <td>Eti-Osa</td>\n",
       "      <td>Amuwo-Odofin</td>\n",
       "      <td>12.70</td>\n",
       "      <td>1462</td>\n",
       "      <td>36.5</td>\n",
       "      <td>1.3</td>\n",
       "      <td>0.00</td>\n",
       "      <td>0.00</td>\n",
       "      <td>37</td>\n",
       "      <td>Cash</td>\n",
       "      <td>24</td>\n",
       "    </tr>\n",
       "    <tr>\n",
       "      <th>3</th>\n",
       "      <td>2016</td>\n",
       "      <td>Jan</td>\n",
       "      <td>1</td>\n",
       "      <td>Fri</td>\n",
       "      <td>6</td>\n",
       "      <td>Eti-Osa</td>\n",
       "      <td>Amuwo-Odofin</td>\n",
       "      <td>8.70</td>\n",
       "      <td>1210</td>\n",
       "      <td>26.0</td>\n",
       "      <td>1.3</td>\n",
       "      <td>0.00</td>\n",
       "      <td>5.46</td>\n",
       "      <td>32</td>\n",
       "      <td>Bank</td>\n",
       "      <td>20</td>\n",
       "    </tr>\n",
       "    <tr>\n",
       "      <th>4</th>\n",
       "      <td>2016</td>\n",
       "      <td>Jan</td>\n",
       "      <td>1</td>\n",
       "      <td>Fri</td>\n",
       "      <td>6</td>\n",
       "      <td>Eti-Osa</td>\n",
       "      <td>Amuwo-Odofin</td>\n",
       "      <td>5.56</td>\n",
       "      <td>759</td>\n",
       "      <td>17.5</td>\n",
       "      <td>1.3</td>\n",
       "      <td>0.00</td>\n",
       "      <td>0.00</td>\n",
       "      <td>18</td>\n",
       "      <td>Cash</td>\n",
       "      <td>12</td>\n",
       "    </tr>\n",
       "    <tr>\n",
       "      <th>...</th>\n",
       "      <td>...</td>\n",
       "      <td>...</td>\n",
       "      <td>...</td>\n",
       "      <td>...</td>\n",
       "      <td>...</td>\n",
       "      <td>...</td>\n",
       "      <td>...</td>\n",
       "      <td>...</td>\n",
       "      <td>...</td>\n",
       "      <td>...</td>\n",
       "      <td>...</td>\n",
       "      <td>...</td>\n",
       "      <td>...</td>\n",
       "      <td>...</td>\n",
       "      <td>...</td>\n",
       "      <td>...</td>\n",
       "    </tr>\n",
       "    <tr>\n",
       "      <th>2008</th>\n",
       "      <td>2016</td>\n",
       "      <td>June</td>\n",
       "      <td>30</td>\n",
       "      <td>Thu</td>\n",
       "      <td>5</td>\n",
       "      <td>Lagos-Island</td>\n",
       "      <td>Ikeja</td>\n",
       "      <td>9.50</td>\n",
       "      <td>1989</td>\n",
       "      <td>31.0</td>\n",
       "      <td>1.3</td>\n",
       "      <td>5.54</td>\n",
       "      <td>3.00</td>\n",
       "      <td>40</td>\n",
       "      <td>Bank</td>\n",
       "      <td>33</td>\n",
       "    </tr>\n",
       "    <tr>\n",
       "      <th>2009</th>\n",
       "      <td>2016</td>\n",
       "      <td>June</td>\n",
       "      <td>30</td>\n",
       "      <td>Thu</td>\n",
       "      <td>5</td>\n",
       "      <td>Eti-Osa</td>\n",
       "      <td>Ikeja</td>\n",
       "      <td>19.80</td>\n",
       "      <td>2368</td>\n",
       "      <td>52.0</td>\n",
       "      <td>0.8</td>\n",
       "      <td>5.54</td>\n",
       "      <td>0.00</td>\n",
       "      <td>58</td>\n",
       "      <td>Bank</td>\n",
       "      <td>39</td>\n",
       "    </tr>\n",
       "    <tr>\n",
       "      <th>2010</th>\n",
       "      <td>2016</td>\n",
       "      <td>June</td>\n",
       "      <td>30</td>\n",
       "      <td>Thu</td>\n",
       "      <td>5</td>\n",
       "      <td>Eti-Osa</td>\n",
       "      <td>Ikeja</td>\n",
       "      <td>17.48</td>\n",
       "      <td>2822</td>\n",
       "      <td>52.0</td>\n",
       "      <td>0.8</td>\n",
       "      <td>5.54</td>\n",
       "      <td>5.00</td>\n",
       "      <td>63</td>\n",
       "      <td>Bank</td>\n",
       "      <td>47</td>\n",
       "    </tr>\n",
       "    <tr>\n",
       "      <th>2011</th>\n",
       "      <td>2016</td>\n",
       "      <td>June</td>\n",
       "      <td>30</td>\n",
       "      <td>Thu</td>\n",
       "      <td>5</td>\n",
       "      <td>Eti-Osa</td>\n",
       "      <td>Amuwo-Odofin</td>\n",
       "      <td>12.76</td>\n",
       "      <td>1083</td>\n",
       "      <td>34.5</td>\n",
       "      <td>1.3</td>\n",
       "      <td>0.00</td>\n",
       "      <td>8.95</td>\n",
       "      <td>44</td>\n",
       "      <td>Bank</td>\n",
       "      <td>18</td>\n",
       "    </tr>\n",
       "    <tr>\n",
       "      <th>2012</th>\n",
       "      <td>2016</td>\n",
       "      <td>June</td>\n",
       "      <td>30</td>\n",
       "      <td>Thu</td>\n",
       "      <td>5</td>\n",
       "      <td>Eti-Osa</td>\n",
       "      <td>Shomolu</td>\n",
       "      <td>17.54</td>\n",
       "      <td>1711</td>\n",
       "      <td>48.0</td>\n",
       "      <td>1.3</td>\n",
       "      <td>5.54</td>\n",
       "      <td>0.00</td>\n",
       "      <td>54</td>\n",
       "      <td>Cash</td>\n",
       "      <td>28</td>\n",
       "    </tr>\n",
       "  </tbody>\n",
       "</table>\n",
       "<p>2013 rows × 16 columns</p>\n",
       "</div>"
      ],
      "text/plain": [
       "      pickup_year pickup_month  pickup_day pickup_dayofweek  pickup_time  \\\n",
       "0            2016          Jan           1              Fri            6   \n",
       "1            2016          Jan           1              Fri            6   \n",
       "2            2016          Jan           1              Fri            6   \n",
       "3            2016          Jan           1              Fri            6   \n",
       "4            2016          Jan           1              Fri            6   \n",
       "...           ...          ...         ...              ...          ...   \n",
       "2008         2016         June          30              Thu            5   \n",
       "2009         2016         June          30              Thu            5   \n",
       "2010         2016         June          30              Thu            5   \n",
       "2011         2016         June          30              Thu            5   \n",
       "2012         2016         June          30              Thu            5   \n",
       "\n",
       "     pickup_location dropoff_location  trip_distance  trip_length  \\\n",
       "0            Eti-Osa            Ikeja          21.00         2037   \n",
       "1            Eti-Osa           Oshodi          16.29         1520   \n",
       "2            Eti-Osa     Amuwo-Odofin          12.70         1462   \n",
       "3            Eti-Osa     Amuwo-Odofin           8.70         1210   \n",
       "4            Eti-Osa     Amuwo-Odofin           5.56          759   \n",
       "...              ...              ...            ...          ...   \n",
       "2008    Lagos-Island            Ikeja           9.50         1989   \n",
       "2009         Eti-Osa            Ikeja          19.80         2368   \n",
       "2010         Eti-Osa            Ikeja          17.48         2822   \n",
       "2011         Eti-Osa     Amuwo-Odofin          12.76         1083   \n",
       "2012         Eti-Osa          Shomolu          17.54         1711   \n",
       "\n",
       "      fare_amount  fees_amount  tolls_amount  tip_amount  total_amount  \\\n",
       "0            52.0          0.8          5.54       11.65            69   \n",
       "1            45.0          1.3          0.00        8.00            54   \n",
       "2            36.5          1.3          0.00        0.00            37   \n",
       "3            26.0          1.3          0.00        5.46            32   \n",
       "4            17.5          1.3          0.00        0.00            18   \n",
       "...           ...          ...           ...         ...           ...   \n",
       "2008         31.0          1.3          5.54        3.00            40   \n",
       "2009         52.0          0.8          5.54        0.00            58   \n",
       "2010         52.0          0.8          5.54        5.00            63   \n",
       "2011         34.5          1.3          0.00        8.95            44   \n",
       "2012         48.0          1.3          5.54        0.00            54   \n",
       "\n",
       "     payment_type  trip_time  \n",
       "0            Bank         33  \n",
       "1            Bank         25  \n",
       "2            Cash         24  \n",
       "3            Bank         20  \n",
       "4            Cash         12  \n",
       "...           ...        ...  \n",
       "2008         Bank         33  \n",
       "2009         Bank         39  \n",
       "2010         Bank         47  \n",
       "2011         Bank         18  \n",
       "2012         Cash         28  \n",
       "\n",
       "[2013 rows x 16 columns]"
      ]
     },
     "execution_count": 30,
     "metadata": {},
     "output_type": "execute_result"
    }
   ],
   "source": [
    "flash"
   ]
  },
  {
   "cell_type": "code",
   "execution_count": 31,
   "id": "3a5ae663",
   "metadata": {},
   "outputs": [],
   "source": [
    "import seaborn as sns\n",
    "import matplotlib.pyplot as plt\n",
    "from matplotlib import rcParams\n"
   ]
  },
  {
   "cell_type": "code",
   "execution_count": 32,
   "id": "40fb3af0",
   "metadata": {},
   "outputs": [
    {
     "data": {
      "text/plain": [
       "48.17883755588674"
      ]
     },
     "execution_count": 32,
     "metadata": {},
     "output_type": "execute_result"
    }
   ],
   "source": [
    " flash['total_amount'].mean()\n"
   ]
  },
  {
   "cell_type": "code",
   "execution_count": null,
   "id": "306936b0",
   "metadata": {},
   "outputs": [],
   "source": []
  },
  {
   "cell_type": "code",
   "execution_count": 33,
   "id": "2622d152",
   "metadata": {},
   "outputs": [
    {
     "data": {
      "image/png": "[encoded data removed]",
      "text/plain": [
       "<Figure size 576x360 with 1 Axes>"
      ]
     },
     "metadata": {},
     "output_type": "display_data"
    }
   ],
   "source": [
    "sns.set(rc = {'figure.figsize':(8,5)})\n",
    "sns.barplot(x= 'dropoff_location',y ='total_amount',palette=('Accent'),data=flash);"
   ]
  },
  {
   "cell_type": "code",
   "execution_count": 34,
   "id": "00da15d1",
   "metadata": {},
   "outputs": [
    {
     "data": {
      "image/png": "[encoded data removed]",
      "text/plain": [
       "<Figure size 720x504 with 1 Axes>"
      ]
     },
     "metadata": {},
     "output_type": "display_data"
    }
   ],
   "source": [
    "sns.set(rc = {'figure.figsize':(10,7)})\n",
    "sns.barplot(x='dropoff_location',y = 'trip_distance', data=flash);"
   ]
  },
  {
   "cell_type": "code",
   "execution_count": 35,
   "id": "9ff7ed41",
   "metadata": {},
   "outputs": [
    {
     "data": {
      "image/png": "[encoded data removed]",
      "text/plain": [
       "<Figure size 648x360 with 1 Axes>"
      ]
     },
     "metadata": {},
     "output_type": "display_data"
    }
   ],
   "source": [
    "sns.set(rc = {'figure.figsize':(9,5)})\n",
    "sns.barplot(x='pickup_location',y='total_amount',palette=('Accent'),data=flash);"
   ]
  },
  {
   "cell_type": "code",
   "execution_count": 36,
   "id": "a2d8540a",
   "metadata": {},
   "outputs": [
    {
     "data": {
      "image/png": "[encoded data removed]",
      "text/plain": [
       "<Figure size 576x360 with 1 Axes>"
      ]
     },
     "metadata": {},
     "output_type": "display_data"
    }
   ],
   "source": [
    "sns.set(rc = {'figure.figsize':(8,5)})\n",
    "sns.barplot(x= 'pickup_month',y ='total_amount',palette=('Accent'),data=flash);"
   ]
  },
  {
   "cell_type": "code",
   "execution_count": 49,
   "id": "aba02f50",
   "metadata": {},
   "outputs": [
    {
     "data": {
      "image/png": "[encoded data removed]",
      "text/plain": [
       "<Figure size 576x360 with 1 Axes>"
      ]
     },
     "metadata": {},
     "output_type": "display_data"
    }
   ],
   "source": [
    "sns.set(rc = {'figure.figsize':(8,5)})\n",
    "sns.barplot(x= 'pickup_dayofweek',y ='total_amount',palette=('Accent'),data=flash);"
   ]
  },
  {
   "cell_type": "code",
   "execution_count": 54,
   "id": "ce3413d8",
   "metadata": {},
   "outputs": [
    {
     "ename": "ValueError",
     "evalue": "could not convert string to float: 'Jan'",
     "output_type": "error",
     "traceback": [
      "\u001b[1;31m---------------------------------------------------------------------------\u001b[0m",
      "\u001b[1;31mValueError\u001b[0m                                Traceback (most recent call last)",
      "\u001b[1;32m<ipython-input-54-1df3c32e7717>\u001b[0m in \u001b[0;36m<module>\u001b[1;34m\u001b[0m\n\u001b[0;32m      1\u001b[0m \u001b[0mfig\u001b[0m \u001b[1;33m=\u001b[0m \u001b[0mplt\u001b[0m\u001b[1;33m.\u001b[0m\u001b[0mfigure\u001b[0m\u001b[1;33m(\u001b[0m\u001b[0mfigsize\u001b[0m \u001b[1;33m=\u001b[0m\u001b[1;33m(\u001b[0m\u001b[1;36m10\u001b[0m\u001b[1;33m,\u001b[0m \u001b[1;36m7\u001b[0m\u001b[1;33m)\u001b[0m\u001b[1;33m)\u001b[0m\u001b[1;33m\u001b[0m\u001b[1;33m\u001b[0m\u001b[0m\n\u001b[1;32m----> 2\u001b[1;33m \u001b[0mplt\u001b[0m\u001b[1;33m.\u001b[0m\u001b[0mpie\u001b[0m\u001b[1;33m(\u001b[0m\u001b[0mflash\u001b[0m\u001b[1;33m,\u001b[0m \u001b[0mlabels\u001b[0m \u001b[1;33m=\u001b[0m \u001b[1;34m'payment_type'\u001b[0m\u001b[1;33m)\u001b[0m\u001b[1;33m\u001b[0m\u001b[1;33m\u001b[0m\u001b[0m\n\u001b[0m",
      "\u001b[1;32m~\\anaconda3\\lib\\site-packages\\matplotlib\\pyplot.py\u001b[0m in \u001b[0;36mpie\u001b[1;34m(x, explode, labels, colors, autopct, pctdistance, shadow, labeldistance, startangle, radius, counterclock, wedgeprops, textprops, center, frame, rotatelabels, normalize, data)\u001b[0m\n\u001b[0;32m   2825\u001b[0m         \u001b[0mtextprops\u001b[0m\u001b[1;33m=\u001b[0m\u001b[1;32mNone\u001b[0m\u001b[1;33m,\u001b[0m \u001b[0mcenter\u001b[0m\u001b[1;33m=\u001b[0m\u001b[1;33m(\u001b[0m\u001b[1;36m0\u001b[0m\u001b[1;33m,\u001b[0m \u001b[1;36m0\u001b[0m\u001b[1;33m)\u001b[0m\u001b[1;33m,\u001b[0m \u001b[0mframe\u001b[0m\u001b[1;33m=\u001b[0m\u001b[1;32mFalse\u001b[0m\u001b[1;33m,\u001b[0m\u001b[1;33m\u001b[0m\u001b[1;33m\u001b[0m\u001b[0m\n\u001b[0;32m   2826\u001b[0m         rotatelabels=False, *, normalize=None, data=None):\n\u001b[1;32m-> 2827\u001b[1;33m     return gca().pie(\n\u001b[0m\u001b[0;32m   2828\u001b[0m         \u001b[0mx\u001b[0m\u001b[1;33m,\u001b[0m \u001b[0mexplode\u001b[0m\u001b[1;33m=\u001b[0m\u001b[0mexplode\u001b[0m\u001b[1;33m,\u001b[0m \u001b[0mlabels\u001b[0m\u001b[1;33m=\u001b[0m\u001b[0mlabels\u001b[0m\u001b[1;33m,\u001b[0m \u001b[0mcolors\u001b[0m\u001b[1;33m=\u001b[0m\u001b[0mcolors\u001b[0m\u001b[1;33m,\u001b[0m\u001b[1;33m\u001b[0m\u001b[1;33m\u001b[0m\u001b[0m\n\u001b[0;32m   2829\u001b[0m         \u001b[0mautopct\u001b[0m\u001b[1;33m=\u001b[0m\u001b[0mautopct\u001b[0m\u001b[1;33m,\u001b[0m \u001b[0mpctdistance\u001b[0m\u001b[1;33m=\u001b[0m\u001b[0mpctdistance\u001b[0m\u001b[1;33m,\u001b[0m \u001b[0mshadow\u001b[0m\u001b[1;33m=\u001b[0m\u001b[0mshadow\u001b[0m\u001b[1;33m,\u001b[0m\u001b[1;33m\u001b[0m\u001b[1;33m\u001b[0m\u001b[0m\n",
      "\u001b[1;32m~\\anaconda3\\lib\\site-packages\\matplotlib\\__init__.py\u001b[0m in \u001b[0;36minner\u001b[1;34m(ax, data, *args, **kwargs)\u001b[0m\n\u001b[0;32m   1445\u001b[0m     \u001b[1;32mdef\u001b[0m \u001b[0minner\u001b[0m\u001b[1;33m(\u001b[0m\u001b[0max\u001b[0m\u001b[1;33m,\u001b[0m \u001b[1;33m*\u001b[0m\u001b[0margs\u001b[0m\u001b[1;33m,\u001b[0m \u001b[0mdata\u001b[0m\u001b[1;33m=\u001b[0m\u001b[1;32mNone\u001b[0m\u001b[1;33m,\u001b[0m \u001b[1;33m**\u001b[0m\u001b[0mkwargs\u001b[0m\u001b[1;33m)\u001b[0m\u001b[1;33m:\u001b[0m\u001b[1;33m\u001b[0m\u001b[1;33m\u001b[0m\u001b[0m\n\u001b[0;32m   1446\u001b[0m         \u001b[1;32mif\u001b[0m \u001b[0mdata\u001b[0m \u001b[1;32mis\u001b[0m \u001b[1;32mNone\u001b[0m\u001b[1;33m:\u001b[0m\u001b[1;33m\u001b[0m\u001b[1;33m\u001b[0m\u001b[0m\n\u001b[1;32m-> 1447\u001b[1;33m             \u001b[1;32mreturn\u001b[0m \u001b[0mfunc\u001b[0m\u001b[1;33m(\u001b[0m\u001b[0max\u001b[0m\u001b[1;33m,\u001b[0m \u001b[1;33m*\u001b[0m\u001b[0mmap\u001b[0m\u001b[1;33m(\u001b[0m\u001b[0msanitize_sequence\u001b[0m\u001b[1;33m,\u001b[0m \u001b[0margs\u001b[0m\u001b[1;33m)\u001b[0m\u001b[1;33m,\u001b[0m \u001b[1;33m**\u001b[0m\u001b[0mkwargs\u001b[0m\u001b[1;33m)\u001b[0m\u001b[1;33m\u001b[0m\u001b[1;33m\u001b[0m\u001b[0m\n\u001b[0m\u001b[0;32m   1448\u001b[0m \u001b[1;33m\u001b[0m\u001b[0m\n\u001b[0;32m   1449\u001b[0m         \u001b[0mbound\u001b[0m \u001b[1;33m=\u001b[0m \u001b[0mnew_sig\u001b[0m\u001b[1;33m.\u001b[0m\u001b[0mbind\u001b[0m\u001b[1;33m(\u001b[0m\u001b[0max\u001b[0m\u001b[1;33m,\u001b[0m \u001b[1;33m*\u001b[0m\u001b[0margs\u001b[0m\u001b[1;33m,\u001b[0m \u001b[1;33m**\u001b[0m\u001b[0mkwargs\u001b[0m\u001b[1;33m)\u001b[0m\u001b[1;33m\u001b[0m\u001b[1;33m\u001b[0m\u001b[0m\n",
      "\u001b[1;32m~\\anaconda3\\lib\\site-packages\\matplotlib\\axes\\_axes.py\u001b[0m in \u001b[0;36mpie\u001b[1;34m(self, x, explode, labels, colors, autopct, pctdistance, shadow, labeldistance, startangle, radius, counterclock, wedgeprops, textprops, center, frame, rotatelabels, normalize)\u001b[0m\n\u001b[0;32m   2993\u001b[0m         \u001b[1;31m# The use of float32 is \"historical\", but can't be changed without\u001b[0m\u001b[1;33m\u001b[0m\u001b[1;33m\u001b[0m\u001b[1;33m\u001b[0m\u001b[0m\n\u001b[0;32m   2994\u001b[0m         \u001b[1;31m# regenerating the test baselines.\u001b[0m\u001b[1;33m\u001b[0m\u001b[1;33m\u001b[0m\u001b[1;33m\u001b[0m\u001b[0m\n\u001b[1;32m-> 2995\u001b[1;33m         \u001b[0mx\u001b[0m \u001b[1;33m=\u001b[0m \u001b[0mnp\u001b[0m\u001b[1;33m.\u001b[0m\u001b[0masarray\u001b[0m\u001b[1;33m(\u001b[0m\u001b[0mx\u001b[0m\u001b[1;33m,\u001b[0m \u001b[0mnp\u001b[0m\u001b[1;33m.\u001b[0m\u001b[0mfloat32\u001b[0m\u001b[1;33m)\u001b[0m\u001b[1;33m\u001b[0m\u001b[1;33m\u001b[0m\u001b[0m\n\u001b[0m\u001b[0;32m   2996\u001b[0m         \u001b[1;32mif\u001b[0m \u001b[0mx\u001b[0m\u001b[1;33m.\u001b[0m\u001b[0mndim\u001b[0m \u001b[1;33m>\u001b[0m \u001b[1;36m1\u001b[0m\u001b[1;33m:\u001b[0m\u001b[1;33m\u001b[0m\u001b[1;33m\u001b[0m\u001b[0m\n\u001b[0;32m   2997\u001b[0m             \u001b[1;32mraise\u001b[0m \u001b[0mValueError\u001b[0m\u001b[1;33m(\u001b[0m\u001b[1;34m\"x must be 1D\"\u001b[0m\u001b[1;33m)\u001b[0m\u001b[1;33m\u001b[0m\u001b[1;33m\u001b[0m\u001b[0m\n",
      "\u001b[1;32m~\\anaconda3\\lib\\site-packages\\numpy\\core\\_asarray.py\u001b[0m in \u001b[0;36masarray\u001b[1;34m(a, dtype, order)\u001b[0m\n\u001b[0;32m     81\u001b[0m \u001b[1;33m\u001b[0m\u001b[0m\n\u001b[0;32m     82\u001b[0m     \"\"\"\n\u001b[1;32m---> 83\u001b[1;33m     \u001b[1;32mreturn\u001b[0m \u001b[0marray\u001b[0m\u001b[1;33m(\u001b[0m\u001b[0ma\u001b[0m\u001b[1;33m,\u001b[0m \u001b[0mdtype\u001b[0m\u001b[1;33m,\u001b[0m \u001b[0mcopy\u001b[0m\u001b[1;33m=\u001b[0m\u001b[1;32mFalse\u001b[0m\u001b[1;33m,\u001b[0m \u001b[0morder\u001b[0m\u001b[1;33m=\u001b[0m\u001b[0morder\u001b[0m\u001b[1;33m)\u001b[0m\u001b[1;33m\u001b[0m\u001b[1;33m\u001b[0m\u001b[0m\n\u001b[0m\u001b[0;32m     84\u001b[0m \u001b[1;33m\u001b[0m\u001b[0m\n\u001b[0;32m     85\u001b[0m \u001b[1;33m\u001b[0m\u001b[0m\n",
      "\u001b[1;32m~\\anaconda3\\lib\\site-packages\\pandas\\core\\generic.py\u001b[0m in \u001b[0;36m__array__\u001b[1;34m(self, dtype)\u001b[0m\n\u001b[0;32m   1897\u001b[0m \u001b[1;33m\u001b[0m\u001b[0m\n\u001b[0;32m   1898\u001b[0m     \u001b[1;32mdef\u001b[0m \u001b[0m__array__\u001b[0m\u001b[1;33m(\u001b[0m\u001b[0mself\u001b[0m\u001b[1;33m,\u001b[0m \u001b[0mdtype\u001b[0m\u001b[1;33m=\u001b[0m\u001b[1;32mNone\u001b[0m\u001b[1;33m)\u001b[0m \u001b[1;33m->\u001b[0m \u001b[0mnp\u001b[0m\u001b[1;33m.\u001b[0m\u001b[0mndarray\u001b[0m\u001b[1;33m:\u001b[0m\u001b[1;33m\u001b[0m\u001b[1;33m\u001b[0m\u001b[0m\n\u001b[1;32m-> 1899\u001b[1;33m         \u001b[1;32mreturn\u001b[0m \u001b[0mnp\u001b[0m\u001b[1;33m.\u001b[0m\u001b[0masarray\u001b[0m\u001b[1;33m(\u001b[0m\u001b[0mself\u001b[0m\u001b[1;33m.\u001b[0m\u001b[0m_values\u001b[0m\u001b[1;33m,\u001b[0m \u001b[0mdtype\u001b[0m\u001b[1;33m=\u001b[0m\u001b[0mdtype\u001b[0m\u001b[1;33m)\u001b[0m\u001b[1;33m\u001b[0m\u001b[1;33m\u001b[0m\u001b[0m\n\u001b[0m\u001b[0;32m   1900\u001b[0m \u001b[1;33m\u001b[0m\u001b[0m\n\u001b[0;32m   1901\u001b[0m     def __array_wrap__(\n",
      "\u001b[1;32m~\\anaconda3\\lib\\site-packages\\numpy\\core\\_asarray.py\u001b[0m in \u001b[0;36masarray\u001b[1;34m(a, dtype, order)\u001b[0m\n\u001b[0;32m     81\u001b[0m \u001b[1;33m\u001b[0m\u001b[0m\n\u001b[0;32m     82\u001b[0m     \"\"\"\n\u001b[1;32m---> 83\u001b[1;33m     \u001b[1;32mreturn\u001b[0m \u001b[0marray\u001b[0m\u001b[1;33m(\u001b[0m\u001b[0ma\u001b[0m\u001b[1;33m,\u001b[0m \u001b[0mdtype\u001b[0m\u001b[1;33m,\u001b[0m \u001b[0mcopy\u001b[0m\u001b[1;33m=\u001b[0m\u001b[1;32mFalse\u001b[0m\u001b[1;33m,\u001b[0m \u001b[0morder\u001b[0m\u001b[1;33m=\u001b[0m\u001b[0morder\u001b[0m\u001b[1;33m)\u001b[0m\u001b[1;33m\u001b[0m\u001b[1;33m\u001b[0m\u001b[0m\n\u001b[0m\u001b[0;32m     84\u001b[0m \u001b[1;33m\u001b[0m\u001b[0m\n\u001b[0;32m     85\u001b[0m \u001b[1;33m\u001b[0m\u001b[0m\n",
      "\u001b[1;31mValueError\u001b[0m: could not convert string to float: 'Jan'"
     ]
    },
    {
     "data": {
      "image/png": "[encoded data removed]",
      "text/plain": [
       "<Figure size 720x504 with 1 Axes>"
      ]
     },
     "metadata": {},
     "output_type": "display_data"
    }
   ],
   "source": [
    "fig = plt.figure(figsize =(10, 7))\n",
    "plt.pie(flash, labels = 'payment_type')"
   ]
  },
  {
   "cell_type": "code",
   "execution_count": null,
   "id": "350ea849",
   "metadata": {},
   "outputs": [],
   "source": []
  },
  {
   "cell_type": "code",
   "execution_count": 68,
   "id": "a142f069",
   "metadata": {},
   "outputs": [
    {
     "data": {
      "text/plain": [
       "<seaborn.axisgrid.FacetGrid at 0xaaec448>"
      ]
     },
     "execution_count": 68,
     "metadata": {},
     "output_type": "execute_result"
    },
    {
     "data": {
      "image/png": "[encoded data removed]",
      "text/plain": [
       "<Figure size 1171.35x360 with 1 Axes>"
      ]
     },
     "metadata": {},
     "output_type": "display_data"
    }
   ],
   "source": [
    "sns.set(rc = {'figure.figsize':(20,50)})\n",
    "sns.catplot(x = 'pickup_dayofweek', hue = 'payment_type',height=5, aspect=3, palette='Set1_r', kind= 'count', data = flash)"
   ]
  },
  {
   "cell_type": "code",
   "execution_count": 67,
   "id": "2cf67949",
   "metadata": {},
   "outputs": [
    {
     "data": {
      "text/plain": [
       "<seaborn.axisgrid.FacetGrid at 0x3858e08>"
      ]
     },
     "execution_count": 67,
     "metadata": {},
     "output_type": "execute_result"
    },
    {
     "data": {
      "image/png": "[encoded data removed]",
      "text/plain": [
       "<Figure size 1192.73x360 with 1 Axes>"
      ]
     },
     "metadata": {},
     "output_type": "display_data"
    }
   ],
   "source": [
    "sns.catplot(x='payment_type',hue='pickup_location',kind= 'count',height=5, aspect=3, palette='Set1_r', data=flash)"
   ]
  },
  {
   "cell_type": "code",
   "execution_count": 66,
   "id": "f29002ef",
   "metadata": {},
   "outputs": [
    {
     "data": {
      "text/plain": [
       "<seaborn.axisgrid.FacetGrid at 0x382e448>"
      ]
     },
     "execution_count": 66,
     "metadata": {},
     "output_type": "execute_result"
    },
    {
     "data": {
      "image/png": "[encoded data removed]",
      "text/plain": [
       "<Figure size 1192.73x360 with 1 Axes>"
      ]
     },
     "metadata": {},
     "output_type": "display_data"
    }
   ],
   "source": [
    "\n",
    "sns.catplot(x='payment_type',hue='dropoff_location',kind= 'count',height=5, aspect=3,palette='Set1_r', data=flash)"
   ]
  },
  {
   "cell_type": "code",
   "execution_count": 65,
   "id": "d2ebe31c",
   "metadata": {},
   "outputs": [
    {
     "data": {
      "text/plain": [
       "<seaborn.axisgrid.FacetGrid at 0x13e4328>"
      ]
     },
     "execution_count": 65,
     "metadata": {},
     "output_type": "execute_result"
    },
    {
     "data": {
      "image/png": "[encoded data removed]",
      "text/plain": [
       "<Figure size 1192.73x360 with 1 Axes>"
      ]
     },
     "metadata": {},
     "output_type": "display_data"
    }
   ],
   "source": [
    "\n",
    "sns.catplot(x='pickup_location',y = 'total_amount',hue='dropoff_location',kind= 'bar',height=5, aspect=3,palette='Set1_r', data=flash)"
   ]
  },
  {
   "cell_type": "code",
   "execution_count": null,
   "id": "e4f93ba1",
   "metadata": {},
   "outputs": [],
   "source": []
  },
  {
   "cell_type": "code",
   "execution_count": 42,
   "id": "a6b56829",
   "metadata": {},
   "outputs": [
    {
     "data": {
      "text/plain": [
       "Ikeja           930\n",
       "Lagos-Island    308\n",
       "Eti-Osa         285\n",
       "Oshodi          261\n",
       "Amuwo-Odofin    194\n",
       "Shomolu          31\n",
       "Surulere          2\n",
       "Alimosho          2\n",
       "Name: dropoff_location, dtype: int64"
      ]
     },
     "execution_count": 42,
     "metadata": {},
     "output_type": "execute_result"
    }
   ],
   "source": [
    " flash['dropoff_location'].value_counts()"
   ]
  },
  {
   "cell_type": "code",
   "execution_count": 43,
   "id": "acf63cce",
   "metadata": {},
   "outputs": [],
   "source": [
    "pickup_point =flash['pickup_location'].value_counts()"
   ]
  },
  {
   "cell_type": "code",
   "execution_count": 44,
   "id": "34932b9c",
   "metadata": {},
   "outputs": [
    {
     "data": {
      "text/html": [
       "<div>\n",
       "<style scoped>\n",
       "    .dataframe tbody tr th:only-of-type {\n",
       "        vertical-align: middle;\n",
       "    }\n",
       "\n",
       "    .dataframe tbody tr th {\n",
       "        vertical-align: top;\n",
       "    }\n",
       "\n",
       "    .dataframe thead th {\n",
       "        text-align: right;\n",
       "    }\n",
       "</style>\n",
       "<table border=\"1\" class=\"dataframe\">\n",
       "  <thead>\n",
       "    <tr style=\"text-align: right;\">\n",
       "      <th></th>\n",
       "      <th>pickup_location</th>\n",
       "      <th>dropoff_location</th>\n",
       "      <th>total_amount</th>\n",
       "    </tr>\n",
       "  </thead>\n",
       "  <tbody>\n",
       "    <tr>\n",
       "      <th>0</th>\n",
       "      <td>Eti-Osa</td>\n",
       "      <td>Ikeja</td>\n",
       "      <td>69</td>\n",
       "    </tr>\n",
       "    <tr>\n",
       "      <th>1</th>\n",
       "      <td>Eti-Osa</td>\n",
       "      <td>Oshodi</td>\n",
       "      <td>54</td>\n",
       "    </tr>\n",
       "    <tr>\n",
       "      <th>2</th>\n",
       "      <td>Eti-Osa</td>\n",
       "      <td>Amuwo-Odofin</td>\n",
       "      <td>37</td>\n",
       "    </tr>\n",
       "    <tr>\n",
       "      <th>3</th>\n",
       "      <td>Eti-Osa</td>\n",
       "      <td>Amuwo-Odofin</td>\n",
       "      <td>32</td>\n",
       "    </tr>\n",
       "    <tr>\n",
       "      <th>4</th>\n",
       "      <td>Eti-Osa</td>\n",
       "      <td>Amuwo-Odofin</td>\n",
       "      <td>18</td>\n",
       "    </tr>\n",
       "    <tr>\n",
       "      <th>...</th>\n",
       "      <td>...</td>\n",
       "      <td>...</td>\n",
       "      <td>...</td>\n",
       "    </tr>\n",
       "    <tr>\n",
       "      <th>2008</th>\n",
       "      <td>Lagos-Island</td>\n",
       "      <td>Ikeja</td>\n",
       "      <td>40</td>\n",
       "    </tr>\n",
       "    <tr>\n",
       "      <th>2009</th>\n",
       "      <td>Eti-Osa</td>\n",
       "      <td>Ikeja</td>\n",
       "      <td>58</td>\n",
       "    </tr>\n",
       "    <tr>\n",
       "      <th>2010</th>\n",
       "      <td>Eti-Osa</td>\n",
       "      <td>Ikeja</td>\n",
       "      <td>63</td>\n",
       "    </tr>\n",
       "    <tr>\n",
       "      <th>2011</th>\n",
       "      <td>Eti-Osa</td>\n",
       "      <td>Amuwo-Odofin</td>\n",
       "      <td>44</td>\n",
       "    </tr>\n",
       "    <tr>\n",
       "      <th>2012</th>\n",
       "      <td>Eti-Osa</td>\n",
       "      <td>Shomolu</td>\n",
       "      <td>54</td>\n",
       "    </tr>\n",
       "  </tbody>\n",
       "</table>\n",
       "<p>2013 rows × 3 columns</p>\n",
       "</div>"
      ],
      "text/plain": [
       "     pickup_location dropoff_location  total_amount\n",
       "0            Eti-Osa            Ikeja            69\n",
       "1            Eti-Osa           Oshodi            54\n",
       "2            Eti-Osa     Amuwo-Odofin            37\n",
       "3            Eti-Osa     Amuwo-Odofin            32\n",
       "4            Eti-Osa     Amuwo-Odofin            18\n",
       "...              ...              ...           ...\n",
       "2008    Lagos-Island            Ikeja            40\n",
       "2009         Eti-Osa            Ikeja            58\n",
       "2010         Eti-Osa            Ikeja            63\n",
       "2011         Eti-Osa     Amuwo-Odofin            44\n",
       "2012         Eti-Osa          Shomolu            54\n",
       "\n",
       "[2013 rows x 3 columns]"
      ]
     },
     "execution_count": 44,
     "metadata": {},
     "output_type": "execute_result"
    }
   ],
   "source": [
    "flash[['pickup_location','dropoff_location','total_amount']]"
   ]
  },
  {
   "cell_type": "code",
   "execution_count": 45,
   "id": "c8372fc6",
   "metadata": {},
   "outputs": [
    {
     "data": {
      "text/html": [
       "<div>\n",
       "<style scoped>\n",
       "    .dataframe tbody tr th:only-of-type {\n",
       "        vertical-align: middle;\n",
       "    }\n",
       "\n",
       "    .dataframe tbody tr th {\n",
       "        vertical-align: top;\n",
       "    }\n",
       "\n",
       "    .dataframe thead th {\n",
       "        text-align: right;\n",
       "    }\n",
       "</style>\n",
       "<table border=\"1\" class=\"dataframe\">\n",
       "  <thead>\n",
       "    <tr style=\"text-align: right;\">\n",
       "      <th></th>\n",
       "      <th>trip_distance</th>\n",
       "      <th>trip_time</th>\n",
       "      <th>total_amount</th>\n",
       "    </tr>\n",
       "  </thead>\n",
       "  <tbody>\n",
       "    <tr>\n",
       "      <th>0</th>\n",
       "      <td>21.00</td>\n",
       "      <td>33</td>\n",
       "      <td>69</td>\n",
       "    </tr>\n",
       "    <tr>\n",
       "      <th>1</th>\n",
       "      <td>16.29</td>\n",
       "      <td>25</td>\n",
       "      <td>54</td>\n",
       "    </tr>\n",
       "    <tr>\n",
       "      <th>2</th>\n",
       "      <td>12.70</td>\n",
       "      <td>24</td>\n",
       "      <td>37</td>\n",
       "    </tr>\n",
       "    <tr>\n",
       "      <th>3</th>\n",
       "      <td>8.70</td>\n",
       "      <td>20</td>\n",
       "      <td>32</td>\n",
       "    </tr>\n",
       "    <tr>\n",
       "      <th>4</th>\n",
       "      <td>5.56</td>\n",
       "      <td>12</td>\n",
       "      <td>18</td>\n",
       "    </tr>\n",
       "    <tr>\n",
       "      <th>...</th>\n",
       "      <td>...</td>\n",
       "      <td>...</td>\n",
       "      <td>...</td>\n",
       "    </tr>\n",
       "    <tr>\n",
       "      <th>2008</th>\n",
       "      <td>9.50</td>\n",
       "      <td>33</td>\n",
       "      <td>40</td>\n",
       "    </tr>\n",
       "    <tr>\n",
       "      <th>2009</th>\n",
       "      <td>19.80</td>\n",
       "      <td>39</td>\n",
       "      <td>58</td>\n",
       "    </tr>\n",
       "    <tr>\n",
       "      <th>2010</th>\n",
       "      <td>17.48</td>\n",
       "      <td>47</td>\n",
       "      <td>63</td>\n",
       "    </tr>\n",
       "    <tr>\n",
       "      <th>2011</th>\n",
       "      <td>12.76</td>\n",
       "      <td>18</td>\n",
       "      <td>44</td>\n",
       "    </tr>\n",
       "    <tr>\n",
       "      <th>2012</th>\n",
       "      <td>17.54</td>\n",
       "      <td>28</td>\n",
       "      <td>54</td>\n",
       "    </tr>\n",
       "  </tbody>\n",
       "</table>\n",
       "<p>2013 rows × 3 columns</p>\n",
       "</div>"
      ],
      "text/plain": [
       "      trip_distance  trip_time  total_amount\n",
       "0             21.00         33            69\n",
       "1             16.29         25            54\n",
       "2             12.70         24            37\n",
       "3              8.70         20            32\n",
       "4              5.56         12            18\n",
       "...             ...        ...           ...\n",
       "2008           9.50         33            40\n",
       "2009          19.80         39            58\n",
       "2010          17.48         47            63\n",
       "2011          12.76         18            44\n",
       "2012          17.54         28            54\n",
       "\n",
       "[2013 rows x 3 columns]"
      ]
     },
     "execution_count": 45,
     "metadata": {},
     "output_type": "execute_result"
    }
   ],
   "source": [
    "flash[['trip_distance','trip_time','total_amount']]"
   ]
  },
  {
   "cell_type": "code",
   "execution_count": null,
   "id": "e08d7a25",
   "metadata": {},
   "outputs": [],
   "source": []
  }
 ],
 "metadata": {
  "kernelspec": {
   "display_name": "Python 3",
   "language": "python",
   "name": "python3"
  },
  "language_info": {
   "codemirror_mode": {
    "name": "ipython",
    "version": 3
   },
   "file_extension": ".py",
   "mimetype": "text/x-python",
   "name": "python",
   "nbconvert_exporter": "python",
   "pygments_lexer": "ipython3",
   "version": "3.8.8"
  }
 },
 "nbformat": 4,
 "nbformat_minor": 5
}
