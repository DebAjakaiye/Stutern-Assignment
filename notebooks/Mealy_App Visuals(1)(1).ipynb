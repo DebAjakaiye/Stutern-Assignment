{
 "cells": [
  {
   "cell_type": "code",
   "execution_count": 1,
   "id": "6aa2e12e",
   "metadata": {},
   "outputs": [],
   "source": [
    "#%load_ext lab_black\n",
    "#%load_ext autoreload\n",
    "\n",
    "import numpy as np\n",
    "import pandas as pd\n",
    "\n",
    "mealy = pd.read_csv(\"mealy_app_data - mealy_app_data.xls.csv\")"
   ]
  },
  {
   "cell_type": "code",
   "execution_count": 2,
   "id": "26bed80f",
   "metadata": {},
   "outputs": [
    {
     "data": {
      "text/html": [
       "<div>\n",
       "<style scoped>\n",
       "    .dataframe tbody tr th:only-of-type {\n",
       "        vertical-align: middle;\n",
       "    }\n",
       "\n",
       "    .dataframe tbody tr th {\n",
       "        vertical-align: top;\n",
       "    }\n",
       "\n",
       "    .dataframe thead th {\n",
       "        text-align: right;\n",
       "    }\n",
       "</style>\n",
       "<table border=\"1\" class=\"dataframe\">\n",
       "  <thead>\n",
       "    <tr style=\"text-align: right;\">\n",
       "      <th></th>\n",
       "      <th>Order ID</th>\n",
       "      <th>Customer ID</th>\n",
       "      <th>Vendor ID_x</th>\n",
       "      <th>Menu ID</th>\n",
       "      <th>Order Date</th>\n",
       "      <th>Name</th>\n",
       "      <th>Age</th>\n",
       "      <th>Gender</th>\n",
       "      <th>Location</th>\n",
       "      <th>Emails</th>\n",
       "      <th>...</th>\n",
       "      <th>Vendor number</th>\n",
       "      <th>Vendor_Distance</th>\n",
       "      <th>Estimated_time</th>\n",
       "      <th>Vendor ID_y</th>\n",
       "      <th>Menu Name</th>\n",
       "      <th>Cuisine</th>\n",
       "      <th>Ingredients</th>\n",
       "      <th>Price</th>\n",
       "      <th>menu ratting</th>\n",
       "      <th>menu reviews</th>\n",
       "    </tr>\n",
       "  </thead>\n",
       "  <tbody>\n",
       "    <tr>\n",
       "      <th>0</th>\n",
       "      <td>1</td>\n",
       "      <td>385</td>\n",
       "      <td>32</td>\n",
       "      <td>83</td>\n",
       "      <td>2023-01-01</td>\n",
       "      <td>Sarah Brown</td>\n",
       "      <td>39</td>\n",
       "      <td>Male</td>\n",
       "      <td>Plot 1296, Akin Adesola Street, Victoria Islan...</td>\n",
       "      <td>ykirk@example.com</td>\n",
       "      <td>...</td>\n",
       "      <td>001-293-227-5380x89656</td>\n",
       "      <td>46.5</td>\n",
       "      <td>30</td>\n",
       "      <td>54</td>\n",
       "      <td>Soft drink</td>\n",
       "      <td>Main Course</td>\n",
       "      <td>Flour, water,yeast,Salt,Butter,Sugar,Cranberri...</td>\n",
       "      <td>2000</td>\n",
       "      <td>2.5</td>\n",
       "      <td>Authentic flavors</td>\n",
       "    </tr>\n",
       "    <tr>\n",
       "      <th>1</th>\n",
       "      <td>2</td>\n",
       "      <td>150</td>\n",
       "      <td>65</td>\n",
       "      <td>34</td>\n",
       "      <td>2023-01-02</td>\n",
       "      <td>Rhonda Rivera</td>\n",
       "      <td>19</td>\n",
       "      <td>Male</td>\n",
       "      <td>Plot 1296, Akin Adesola Street, Victoria Islan...</td>\n",
       "      <td>toddwade@example.com</td>\n",
       "      <td>...</td>\n",
       "      <td>522.678.8920x13952</td>\n",
       "      <td>60.0</td>\n",
       "      <td>100</td>\n",
       "      <td>42</td>\n",
       "      <td>Pizza</td>\n",
       "      <td>Main Course</td>\n",
       "      <td>Okro,seasonings,water,peper,meat,palm oil,potash</td>\n",
       "      <td>3000</td>\n",
       "      <td>4.7</td>\n",
       "      <td>Fresh ingredients</td>\n",
       "    </tr>\n",
       "    <tr>\n",
       "      <th>2</th>\n",
       "      <td>3</td>\n",
       "      <td>897</td>\n",
       "      <td>62</td>\n",
       "      <td>64</td>\n",
       "      <td>2023-01-03</td>\n",
       "      <td>Deborah Washington</td>\n",
       "      <td>29</td>\n",
       "      <td>Male</td>\n",
       "      <td>19B Idejo Street, Victori Island, Lagos Nigeria</td>\n",
       "      <td>michelle68@example.net</td>\n",
       "      <td>...</td>\n",
       "      <td>279.476.4124x809</td>\n",
       "      <td>46.5</td>\n",
       "      <td>100</td>\n",
       "      <td>29</td>\n",
       "      <td>Tuwo Masara</td>\n",
       "      <td>Beverage</td>\n",
       "      <td>5 alive</td>\n",
       "      <td>5000</td>\n",
       "      <td>5.0</td>\n",
       "      <td>Delicious food</td>\n",
       "    </tr>\n",
       "    <tr>\n",
       "      <th>3</th>\n",
       "      <td>4</td>\n",
       "      <td>674</td>\n",
       "      <td>92</td>\n",
       "      <td>54</td>\n",
       "      <td>2023-01-04</td>\n",
       "      <td>Abigail Palmer</td>\n",
       "      <td>58</td>\n",
       "      <td>Female</td>\n",
       "      <td>9 catchment close, GRA Ilorin, Kwara State, Ni...</td>\n",
       "      <td>millerdanielle@example.net</td>\n",
       "      <td>...</td>\n",
       "      <td>685-561-0851x2379</td>\n",
       "      <td>46.5</td>\n",
       "      <td>30</td>\n",
       "      <td>57</td>\n",
       "      <td>Nkwobi</td>\n",
       "      <td>Main Course</td>\n",
       "      <td>Fufu flower,water</td>\n",
       "      <td>3000</td>\n",
       "      <td>4.0</td>\n",
       "      <td>Authentic flavors</td>\n",
       "    </tr>\n",
       "    <tr>\n",
       "      <th>4</th>\n",
       "      <td>5</td>\n",
       "      <td>334</td>\n",
       "      <td>53</td>\n",
       "      <td>73</td>\n",
       "      <td>2023-01-05</td>\n",
       "      <td>Benjamin Cortez</td>\n",
       "      <td>55</td>\n",
       "      <td>Male</td>\n",
       "      <td>267A, AIM Plaza, Etim Inyang Crescent, Victori...</td>\n",
       "      <td>nphelps@example.net</td>\n",
       "      <td>...</td>\n",
       "      <td>758.882.6101x835</td>\n",
       "      <td>46.5</td>\n",
       "      <td>30</td>\n",
       "      <td>33</td>\n",
       "      <td>Beef Shawarma</td>\n",
       "      <td>Side Dish</td>\n",
       "      <td>cinnamon,oregano,paprika,beef</td>\n",
       "      <td>4000</td>\n",
       "      <td>5.0</td>\n",
       "      <td>Delicious food</td>\n",
       "    </tr>\n",
       "    <tr>\n",
       "      <th>...</th>\n",
       "      <td>...</td>\n",
       "      <td>...</td>\n",
       "      <td>...</td>\n",
       "      <td>...</td>\n",
       "      <td>...</td>\n",
       "      <td>...</td>\n",
       "      <td>...</td>\n",
       "      <td>...</td>\n",
       "      <td>...</td>\n",
       "      <td>...</td>\n",
       "      <td>...</td>\n",
       "      <td>...</td>\n",
       "      <td>...</td>\n",
       "      <td>...</td>\n",
       "      <td>...</td>\n",
       "      <td>...</td>\n",
       "      <td>...</td>\n",
       "      <td>...</td>\n",
       "      <td>...</td>\n",
       "      <td>...</td>\n",
       "      <td>...</td>\n",
       "    </tr>\n",
       "    <tr>\n",
       "      <th>995</th>\n",
       "      <td>996</td>\n",
       "      <td>614</td>\n",
       "      <td>35</td>\n",
       "      <td>20</td>\n",
       "      <td>2025-09-22</td>\n",
       "      <td>Ashley Norris</td>\n",
       "      <td>47</td>\n",
       "      <td>Male</td>\n",
       "      <td>47, Calabar Road, Calabar, Cross River Nigeria</td>\n",
       "      <td>seansimon@example.net</td>\n",
       "      <td>...</td>\n",
       "      <td>619.103.1832</td>\n",
       "      <td>60.0</td>\n",
       "      <td>100</td>\n",
       "      <td>23</td>\n",
       "      <td>Salad</td>\n",
       "      <td>Side Dish</td>\n",
       "      <td>frozen fruit,fresh fruit,water,yogurt,sweetener</td>\n",
       "      <td>5000</td>\n",
       "      <td>1.0</td>\n",
       "      <td>Great service</td>\n",
       "    </tr>\n",
       "    <tr>\n",
       "      <th>996</th>\n",
       "      <td>997</td>\n",
       "      <td>463</td>\n",
       "      <td>36</td>\n",
       "      <td>33</td>\n",
       "      <td>2025-09-23</td>\n",
       "      <td>Dennis Frye</td>\n",
       "      <td>30</td>\n",
       "      <td>Female</td>\n",
       "      <td>Eleganza Biro Plaza, 9th Floor, Suite 47, Plot...</td>\n",
       "      <td>hdavis@example.org</td>\n",
       "      <td>...</td>\n",
       "      <td>(990)629-0614x19979</td>\n",
       "      <td>50.0</td>\n",
       "      <td>50</td>\n",
       "      <td>44</td>\n",
       "      <td>Akara</td>\n",
       "      <td>Soup</td>\n",
       "      <td>Pizza</td>\n",
       "      <td>4000</td>\n",
       "      <td>4.7</td>\n",
       "      <td>Fresh ingredients</td>\n",
       "    </tr>\n",
       "    <tr>\n",
       "      <th>997</th>\n",
       "      <td>998</td>\n",
       "      <td>723</td>\n",
       "      <td>44</td>\n",
       "      <td>15</td>\n",
       "      <td>2025-09-24</td>\n",
       "      <td>Ms. Ariana Smith DVM</td>\n",
       "      <td>64</td>\n",
       "      <td>Male</td>\n",
       "      <td>8 Imam Agusto Close, Off Olosa Street, Victori...</td>\n",
       "      <td>bwells@example.net</td>\n",
       "      <td>...</td>\n",
       "      <td>+1-756-882-1313x22045</td>\n",
       "      <td>50.0</td>\n",
       "      <td>100</td>\n",
       "      <td>15</td>\n",
       "      <td>Pounded-Yam</td>\n",
       "      <td>Main Course</td>\n",
       "      <td>jute leaves,water,locust beans,crayfish,bouill...</td>\n",
       "      <td>2000</td>\n",
       "      <td>2.5</td>\n",
       "      <td>Great service</td>\n",
       "    </tr>\n",
       "    <tr>\n",
       "      <th>998</th>\n",
       "      <td>999</td>\n",
       "      <td>428</td>\n",
       "      <td>9</td>\n",
       "      <td>77</td>\n",
       "      <td>2025-09-25</td>\n",
       "      <td>Diane Nguyen</td>\n",
       "      <td>50</td>\n",
       "      <td>Male</td>\n",
       "      <td>No. 7 Rhine Street, off Ibrahim Babangida Boul...</td>\n",
       "      <td>arichard@example.com</td>\n",
       "      <td>...</td>\n",
       "      <td>001-106-413-2777x362</td>\n",
       "      <td>60.0</td>\n",
       "      <td>100</td>\n",
       "      <td>62</td>\n",
       "      <td>Scotch egg</td>\n",
       "      <td>Appetizer</td>\n",
       "      <td>coffee granules,milk,sugar</td>\n",
       "      <td>4000</td>\n",
       "      <td>3.8</td>\n",
       "      <td>Fresh ingredients</td>\n",
       "    </tr>\n",
       "    <tr>\n",
       "      <th>999</th>\n",
       "      <td>1000</td>\n",
       "      <td>128</td>\n",
       "      <td>2</td>\n",
       "      <td>42</td>\n",
       "      <td>2025-09-26</td>\n",
       "      <td>Candice Campbell</td>\n",
       "      <td>56</td>\n",
       "      <td>Male</td>\n",
       "      <td>Eleganza Biro Plaza, 9th Floor, Suite 47, Plot...</td>\n",
       "      <td>kathymiller@example.net</td>\n",
       "      <td>...</td>\n",
       "      <td>(137)578-8075x305</td>\n",
       "      <td>50.0</td>\n",
       "      <td>100</td>\n",
       "      <td>93</td>\n",
       "      <td>Meat floss</td>\n",
       "      <td>Soup</td>\n",
       "      <td>Snacks and Desserts</td>\n",
       "      <td>3000</td>\n",
       "      <td>5.0</td>\n",
       "      <td>Fresh ingredients</td>\n",
       "    </tr>\n",
       "  </tbody>\n",
       "</table>\n",
       "<p>1000 rows × 23 columns</p>\n",
       "</div>"
      ],
      "text/plain": [
       "     Order ID  Customer ID  Vendor ID_x  Menu ID  Order Date  \\\n",
       "0           1          385           32       83  2023-01-01   \n",
       "1           2          150           65       34  2023-01-02   \n",
       "2           3          897           62       64  2023-01-03   \n",
       "3           4          674           92       54  2023-01-04   \n",
       "4           5          334           53       73  2023-01-05   \n",
       "..        ...          ...          ...      ...         ...   \n",
       "995       996          614           35       20  2025-09-22   \n",
       "996       997          463           36       33  2025-09-23   \n",
       "997       998          723           44       15  2025-09-24   \n",
       "998       999          428            9       77  2025-09-25   \n",
       "999      1000          128            2       42  2025-09-26   \n",
       "\n",
       "                     Name  Age  Gender  \\\n",
       "0             Sarah Brown   39    Male   \n",
       "1           Rhonda Rivera   19    Male   \n",
       "2      Deborah Washington   29    Male   \n",
       "3          Abigail Palmer   58  Female   \n",
       "4         Benjamin Cortez   55    Male   \n",
       "..                    ...  ...     ...   \n",
       "995         Ashley Norris   47    Male   \n",
       "996           Dennis Frye   30  Female   \n",
       "997  Ms. Ariana Smith DVM   64    Male   \n",
       "998          Diane Nguyen   50    Male   \n",
       "999      Candice Campbell   56    Male   \n",
       "\n",
       "                                              Location  \\\n",
       "0    Plot 1296, Akin Adesola Street, Victoria Islan...   \n",
       "1    Plot 1296, Akin Adesola Street, Victoria Islan...   \n",
       "2      19B Idejo Street, Victori Island, Lagos Nigeria   \n",
       "3    9 catchment close, GRA Ilorin, Kwara State, Ni...   \n",
       "4    267A, AIM Plaza, Etim Inyang Crescent, Victori...   \n",
       "..                                                 ...   \n",
       "995     47, Calabar Road, Calabar, Cross River Nigeria   \n",
       "996  Eleganza Biro Plaza, 9th Floor, Suite 47, Plot...   \n",
       "997  8 Imam Agusto Close, Off Olosa Street, Victori...   \n",
       "998  No. 7 Rhine Street, off Ibrahim Babangida Boul...   \n",
       "999  Eleganza Biro Plaza, 9th Floor, Suite 47, Plot...   \n",
       "\n",
       "                         Emails  ...           Vendor number Vendor_Distance  \\\n",
       "0             ykirk@example.com  ...  001-293-227-5380x89656            46.5   \n",
       "1          toddwade@example.com  ...      522.678.8920x13952            60.0   \n",
       "2        michelle68@example.net  ...        279.476.4124x809            46.5   \n",
       "3    millerdanielle@example.net  ...       685-561-0851x2379            46.5   \n",
       "4           nphelps@example.net  ...        758.882.6101x835            46.5   \n",
       "..                          ...  ...                     ...             ...   \n",
       "995       seansimon@example.net  ...            619.103.1832            60.0   \n",
       "996          hdavis@example.org  ...     (990)629-0614x19979            50.0   \n",
       "997          bwells@example.net  ...   +1-756-882-1313x22045            50.0   \n",
       "998        arichard@example.com  ...    001-106-413-2777x362            60.0   \n",
       "999     kathymiller@example.net  ...       (137)578-8075x305            50.0   \n",
       "\n",
       "    Estimated_time Vendor ID_y      Menu Name      Cuisine  \\\n",
       "0               30          54     Soft drink  Main Course   \n",
       "1              100          42          Pizza  Main Course   \n",
       "2              100          29    Tuwo Masara     Beverage   \n",
       "3               30          57         Nkwobi  Main Course   \n",
       "4               30          33  Beef Shawarma    Side Dish   \n",
       "..             ...         ...            ...          ...   \n",
       "995            100          23          Salad    Side Dish   \n",
       "996             50          44          Akara         Soup   \n",
       "997            100          15    Pounded-Yam  Main Course   \n",
       "998            100          62     Scotch egg    Appetizer   \n",
       "999            100          93     Meat floss         Soup   \n",
       "\n",
       "                                           Ingredients Price menu ratting  \\\n",
       "0    Flour, water,yeast,Salt,Butter,Sugar,Cranberri...  2000          2.5   \n",
       "1     Okro,seasonings,water,peper,meat,palm oil,potash  3000          4.7   \n",
       "2                                              5 alive  5000          5.0   \n",
       "3                                    Fufu flower,water  3000          4.0   \n",
       "4                        cinnamon,oregano,paprika,beef  4000          5.0   \n",
       "..                                                 ...   ...          ...   \n",
       "995    frozen fruit,fresh fruit,water,yogurt,sweetener  5000          1.0   \n",
       "996                                              Pizza  4000          4.7   \n",
       "997  jute leaves,water,locust beans,crayfish,bouill...  2000          2.5   \n",
       "998                         coffee granules,milk,sugar  4000          3.8   \n",
       "999                                Snacks and Desserts  3000          5.0   \n",
       "\n",
       "          menu reviews  \n",
       "0    Authentic flavors  \n",
       "1    Fresh ingredients  \n",
       "2       Delicious food  \n",
       "3    Authentic flavors  \n",
       "4       Delicious food  \n",
       "..                 ...  \n",
       "995      Great service  \n",
       "996  Fresh ingredients  \n",
       "997      Great service  \n",
       "998  Fresh ingredients  \n",
       "999  Fresh ingredients  \n",
       "\n",
       "[1000 rows x 23 columns]"
      ]
     },
     "execution_count": 2,
     "metadata": {},
     "output_type": "execute_result"
    }
   ],
   "source": [
    "mealy"
   ]
  },
  {
   "cell_type": "code",
   "execution_count": 3,
   "id": "a7d59ec3",
   "metadata": {},
   "outputs": [
    {
     "name": "stdout",
     "output_type": "stream",
     "text": [
      "<class 'pandas.core.frame.DataFrame'>\n",
      "RangeIndex: 1000 entries, 0 to 999\n",
      "Data columns (total 23 columns):\n",
      " #   Column           Non-Null Count  Dtype  \n",
      "---  ------           --------------  -----  \n",
      " 0   Order ID         1000 non-null   int64  \n",
      " 1   Customer ID      1000 non-null   int64  \n",
      " 2   Vendor ID_x      1000 non-null   int64  \n",
      " 3   Menu ID          1000 non-null   int64  \n",
      " 4   Order Date       1000 non-null   object \n",
      " 5   Name             1000 non-null   object \n",
      " 6   Age              1000 non-null   int64  \n",
      " 7   Gender           1000 non-null   object \n",
      " 8   Location         1000 non-null   object \n",
      " 9   Emails           1000 non-null   object \n",
      " 10  Phone            1000 non-null   object \n",
      " 11  Vendor Name      1000 non-null   object \n",
      " 12  Vendor Location  1000 non-null   object \n",
      " 13  Vendor number    1000 non-null   object \n",
      " 14  Vendor_Distance  1000 non-null   float64\n",
      " 15  Estimated_time   1000 non-null   int64  \n",
      " 16  Vendor ID_y      1000 non-null   int64  \n",
      " 17  Menu Name        1000 non-null   object \n",
      " 18  Cuisine          1000 non-null   object \n",
      " 19  Ingredients      1000 non-null   object \n",
      " 20  Price            1000 non-null   int64  \n",
      " 21  menu ratting     1000 non-null   float64\n",
      " 22  menu reviews     1000 non-null   object \n",
      "dtypes: float64(2), int64(8), object(13)\n",
      "memory usage: 129.0+ KB\n"
     ]
    }
   ],
   "source": [
    "mealy.info()"
   ]
  },
  {
   "cell_type": "code",
   "execution_count": 4,
   "id": "f3b1f2a4",
   "metadata": {},
   "outputs": [],
   "source": [
    "import seaborn as sns\n",
    "import matplotlib.pyplot as plt"
   ]
  },
  {
   "cell_type": "code",
   "execution_count": 53,
   "id": "8ee3e4a5",
   "metadata": {},
   "outputs": [
    {
     "data": {
      "image/png": "[encoded data removed]",
      "text/plain": [
       "<Figure size 576x432 with 1 Axes>"
      ]
     },
     "metadata": {
      "needs_background": "light"
     },
     "output_type": "display_data"
    }
   ],
   "source": [
    "#trying to check if scatterplot would work guess i'm missing out something\n",
    "plt.figure(figsize=(8, 6))\n",
    "\n",
    "plt.scatter(x=\"Vendor_Distance\", y=\"Estimated_time\", data=mealy)\n",
    "plt.xlim(0, 25)\n",
    "plt.xlabel(\"Vendor_Distance\")\n",
    "plt.ylabel(\"Estimated_time\")\n",
    "plt.title(\"Scatter Plot of Time vs Distance\")\n",
    "\n",
    "plt.tight_layout()\n",
    "plt.show()\n"
   ]
  },
  {
   "cell_type": "code",
   "execution_count": 9,
   "id": "daa11d19",
   "metadata": {},
   "outputs": [
    {
     "data": {
      "text/plain": [
       "<seaborn.axisgrid.FacetGrid at 0x4506fb8>"
      ]
     },
     "execution_count": 9,
     "metadata": {},
     "output_type": "execute_result"
    },
    {
     "data": {
      "image/png": "[encoded data removed]",
      "text/plain": [
       "<Figure size 490.375x360 with 1 Axes>"
      ]
     },
     "metadata": {
      "needs_background": "light"
     },
     "output_type": "display_data"
    }
   ],
   "source": [
    "#the price at which each gender got the cuisine.from this, shows female got most cuisine at an higher price than male\n",
    "\n",
    "sns.catplot(x = 'Gender',y = 'Price',hue = 'Cuisine', kind= 'bar', data = mealy)"
   ]
  },
  {
   "cell_type": "code",
   "execution_count": 14,
   "id": "54ff0492",
   "metadata": {},
   "outputs": [
    {
     "data": {
      "text/plain": [
       "<seaborn.axisgrid.FacetGrid at 0xa23dbc8>"
      ]
     },
     "execution_count": 14,
     "metadata": {},
     "output_type": "execute_result"
    },
    {
     "data": {
      "image/png": "[encoded data removed]",
      "text/plain": [
       "<Figure size 433.25x360 with 1 Axes>"
      ]
     },
     "metadata": {
      "needs_background": "light"
     },
     "output_type": "display_data"
    }
   ],
   "source": [
    "#shows the effect of price on menu ratting. #No significant difference but with price 2000 had more 5.0 rating\n",
    "\n",
    "sns.catplot(x = 'Price', hue = 'menu ratting', kind = 'count', data = mealy)"
   ]
  },
  {
   "cell_type": "code",
   "execution_count": 56,
   "id": "2a44fa60",
   "metadata": {},
   "outputs": [
    {
     "data": {
      "text/plain": [
       "<seaborn.axisgrid.FacetGrid at 0xaaaaec8>"
      ]
     },
     "execution_count": 56,
     "metadata": {},
     "output_type": "execute_result"
    },
    {
     "data": {
      "image/png": "[encoded data removed]",
      "text/plain": [
       "<Figure size 432.125x360 with 1 Axes>"
      ]
     },
     "metadata": {
      "needs_background": "light"
     },
     "output_type": "display_data"
    }
   ],
   "source": [
    "#type of cuisine ordered by each gender with different ages. No significant difference\n",
    "sns.catplot(x = 'Age',y = 'Cuisine', kind= 'bar', hue = 'Gender', data = mealy)"
   ]
  },
  {
   "cell_type": "code",
   "execution_count": 46,
   "id": "f3d0c05b",
   "metadata": {},
   "outputs": [
    {
     "data": {
      "text/plain": [
       "<seaborn.axisgrid.FacetGrid at 0xd5e0700>"
      ]
     },
     "execution_count": 46,
     "metadata": {},
     "output_type": "execute_result"
    },
    {
     "data": {
      "image/png": "[encoded data removed]",
      "text/plain": [
       "<Figure size 360x360 with 1 Axes>"
      ]
     },
     "metadata": {
      "needs_background": "light"
     },
     "output_type": "display_data"
    }
   ],
   "source": [
    "#shows the estimated time to deliver basedon distance. With increasing distance, there is an increase in the estimated time of delivery \n",
    "\n",
    "sns.catplot(x=\"Vendor_Distance\", y=\"Estimated_time\", kind= 'bar', data=mealy)"
   ]
  },
  {
   "cell_type": "code",
   "execution_count": 51,
   "id": "45239b87",
   "metadata": {},
   "outputs": [
    {
     "data": {
      "text/plain": [
       "<seaborn.axisgrid.FacetGrid at 0xb0b9730>"
      ]
     },
     "execution_count": 51,
     "metadata": {},
     "output_type": "execute_result"
    },
    {
     "data": {
      "image/png": "[encoded data removed]",
      "text/plain": [
       "<Figure size 360x360 with 1 Axes>"
      ]
     },
     "metadata": {
      "needs_background": "light"
     },
     "output_type": "display_data"
    }
   ],
   "source": [
    "#shows how the reviews affected the menu ratting. Delicious food had more rating\n",
    "sns.catplot(x = 'menu ratting', y = 'menu reviews', kind= 'bar', data = mealy)"
   ]
  },
  {
   "cell_type": "code",
   "execution_count": 52,
   "id": "6c38d327",
   "metadata": {},
   "outputs": [
    {
     "data": {
      "text/plain": [
       "<seaborn.axisgrid.FacetGrid at 0xa9a5478>"
      ]
     },
     "execution_count": 52,
     "metadata": {},
     "output_type": "execute_result"
    },
    {
     "data": {
      "image/png": "[encoded data removed]",
      "text/plain": [
       "<Figure size 360x360 with 1 Axes>"
      ]
     },
     "metadata": {
      "needs_background": "light"
     },
     "output_type": "display_data"
    }
   ],
   "source": [
    "#shows if price is a determinant in the menu reviews.Delicious food has increased price compared to others\n",
    " \n",
    "sns.catplot(x = 'Price', y = 'menu reviews', kind= 'bar', data = mealy)"
   ]
  },
  {
   "cell_type": "code",
   "execution_count": null,
   "id": "71f0bb81",
   "metadata": {},
   "outputs": [],
   "source": []
  }
 ],
 "metadata": {
  "kernelspec": {
   "display_name": "Python 3",
   "language": "python",
   "name": "python3"
  },
  "language_info": {
   "codemirror_mode": {
    "name": "ipython",
    "version": 3
   },
   "file_extension": ".py",
   "mimetype": "text/x-python",
   "name": "python",
   "nbconvert_exporter": "python",
   "pygments_lexer": "ipython3",
   "version": "3.8.8"
  }
 },
 "nbformat": 4,
 "nbformat_minor": 5
}
